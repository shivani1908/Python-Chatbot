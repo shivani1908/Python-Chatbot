{
 "cells": [
  {
   "cell_type": "code",
   "execution_count": 1,
   "metadata": {},
   "outputs": [],
   "source": [
    "import pandas as pd\n",
    "import numpy as np"
   ]
  },
  {
   "cell_type": "markdown",
   "metadata": {},
   "source": [
    "# Load the data file"
   ]
  },
  {
   "cell_type": "code",
   "execution_count": 2,
   "metadata": {},
   "outputs": [
    {
     "data": {
      "text/plain": [
       "0     {'tag': 'greeting', 'patterns': ['Hi there', '...\n",
       "1     {'tag': 'goodbye', 'patterns': ['Bye', 'See yo...\n",
       "2     {'tag': 'thanks', 'patterns': ['Thanks', 'Than...\n",
       "3     {'tag': 'noanswer', 'patterns': [], 'responses...\n",
       "4     {'tag': 'options', 'patterns': ['How you could...\n",
       "5     {'tag': 'adverse_drug', 'patterns': ['How to c...\n",
       "6     {'tag': 'blood_pressure', 'patterns': ['Open b...\n",
       "7     {'tag': 'blood_pressure_search', 'patterns': [...\n",
       "8     {'tag': 'search_blood_pressure_by_patient_id',...\n",
       "9     {'tag': 'pharmacy_search', 'patterns': ['Find ...\n",
       "10    {'tag': 'search_pharmacy_by_name', 'patterns':...\n",
       "11    {'tag': 'hospital_search', 'patterns': ['Looku...\n",
       "12    {'tag': 'search_hospital_by_params', 'patterns...\n",
       "13    {'tag': 'search_hospital_by_type', 'patterns':...\n",
       "Name: intents, dtype: object"
      ]
     },
     "execution_count": 2,
     "metadata": {},
     "output_type": "execute_result"
    }
   ],
   "source": [
    "intents = pd.read_json('intents.json')\n",
    "type(intents)\n",
    "intents['intents']"
   ]
  },
  {
   "cell_type": "markdown",
   "metadata": {},
   "source": [
    "# Preprocess the data"
   ]
  },
  {
   "cell_type": "code",
   "execution_count": 3,
   "metadata": {},
   "outputs": [
    {
     "name": "stderr",
     "output_type": "stream",
     "text": [
      "[nltk_data] Downloading package stopwords to\n",
      "[nltk_data]     C:\\Users\\shiva\\AppData\\Roaming\\nltk_data...\n",
      "[nltk_data]   Package stopwords is already up-to-date!\n",
      "[nltk_data] Downloading package wordnet to\n",
      "[nltk_data]     C:\\Users\\shiva\\AppData\\Roaming\\nltk_data...\n",
      "[nltk_data]   Package wordnet is already up-to-date!\n"
     ]
    },
    {
     "data": {
      "text/plain": [
       "True"
      ]
     },
     "execution_count": 3,
     "metadata": {},
     "output_type": "execute_result"
    }
   ],
   "source": [
    "#TQDM is a progress bar library with good support for nested loops and Jupyter/IPython notebooks.\n",
    "from tqdm import tqdm\n",
    "\n",
    "import re\n",
    "import nltk\n",
    "from nltk.stem import WordNetLemmatizer\n",
    "from nltk.tokenize import word_tokenize\n",
    "from nltk.corpus import stopwords\n",
    "nltk.download('stopwords')\n",
    "nltk.download('wordnet')"
   ]
  },
  {
   "cell_type": "code",
   "execution_count": 6,
   "metadata": {},
   "outputs": [],
   "source": [
    "lem = WordNetLemmatizer()\n",
    "words = [] #records each word\n",
    "documents = [] #records the word alongwith tag associated\n",
    "classes = [] #records the tags\n",
    "\n",
    "for intent in intents['intents']:\n",
    "    for pattern in intent['patterns']:\n",
    "        \n",
    "        #remove non-alphabetic characters\n",
    "        pattern = re.sub('[^a-zA-Z]', ' ', pattern)\n",
    "        \n",
    "        #tokenize the words\n",
    "        w = word_tokenize(pattern)\n",
    "        \n",
    "        #lemmatize each word to its lemma\n",
    "        w = [lem.lemmatize(word.lower()) for word in w if word not in set(stopwords.words('english'))]\n",
    "        \n",
    "        words.extend(w)\n",
    "        documents.append((w, intent['tag']))\n",
    "        \n",
    "        if(intent['tag'] not in classes):\n",
    "            classes.append(intent['tag'])\n",
    "        #print(w)\n",
    "        #print('--------------------------')"
   ]
  },
  {
   "cell_type": "code",
   "execution_count": 5,
   "metadata": {},
   "outputs": [
    {
     "name": "stdout",
     "output_type": "stream",
     "text": [
      "47 documents\n",
      "9 classes\n",
      "70 unique lemmatized words\n"
     ]
    }
   ],
   "source": [
    "#creating a pickle file to store the Python objects which we will use while predicting.\n",
    "import pickle\n",
    "\n",
    "words = sorted(list(set(words)))\n",
    "classes = sorted(list(set(classes)))\n",
    "\n",
    "print(len(documents), 'documents')\n",
    "print(len(classes), 'classes')\n",
    "print(len(words), 'unique lemmatized words')\n",
    "\n",
    "pickle.dump(words, open('words.pkl', 'wb'))  ## 'wb' instead 'w' for binary file\n",
    "pickle.dump(classes, open('classes.pkl', 'wb'))"
   ]
  },
  {
   "cell_type": "code",
   "execution_count": 6,
   "metadata": {},
   "outputs": [
    {
     "name": "stdout",
     "output_type": "stream",
     "text": [
      "['adverse_drug', 'blood_pressure', 'blood_pressure_search', 'goodbye', 'greeting', 'hospital_search', 'options', 'pharmacy_search', 'thanks']\n"
     ]
    }
   ],
   "source": [
    "print(classes)"
   ]
  },
  {
   "cell_type": "code",
   "execution_count": 5,
   "metadata": {},
   "outputs": [
    {
     "name": "stdout",
     "output_type": "stream",
     "text": [
      "['hi', 'how', 'is', 'anyone', 'hey', 'hola', 'hello', 'good', 'day', 'bye', 'see', 'later', 'goodbye', 'nice', 'chatting', 'bye', 'till', 'next', 'time', 'thanks', 'thank', 'that', 'helpful', 'awesome', 'thanks', 'thanks', 'helping', 'how', 'could', 'help', 'what', 'what', 'help', 'provide', 'how', 'helpful', 'what', 'support', 'offered', 'how', 'check', 'adverse', 'drug', 'reaction', 'open', 'adverse', 'drug', 'module', 'give', 'list', 'drug', 'causing', 'adverse', 'behavior', 'list', 'drug', 'suitable', 'patient', 'adverse', 'reaction', 'which', 'drug', 'dont', 'adverse', 'reaction', 'open', 'blood', 'pressure', 'module', 'task', 'related', 'blood', 'pressure', 'blood', 'pressure', 'data', 'entry', 'i', 'want', 'log', 'blood', 'pressure', 'result', 'blood', 'pressure', 'data', 'management', 'i', 'want', 'search', 'blood', 'pressure', 'result', 'history', 'blood', 'pressure', 'patient', 'load', 'patient', 'blood', 'pressure', 'result', 'show', 'blood', 'pressure', 'result', 'patient', 'find', 'blood', 'pressure', 'result', 'id', 'find', 'pharmacy', 'find', 'pharmacy', 'list', 'pharmacy', 'nearby', 'locate', 'pharmacy', 'search', 'pharmacy', 'lookup', 'hospital', 'searching', 'hospital', 'transfer', 'patient', 'i', 'want', 'search', 'hospital', 'data', 'hospital', 'lookup', 'patient', 'looking', 'hospital', 'detail']\n"
     ]
    }
   ],
   "source": [
    "print(words)"
   ]
  },
  {
   "cell_type": "code",
   "execution_count": 7,
   "metadata": {},
   "outputs": [
    {
     "name": "stdout",
     "output_type": "stream",
     "text": [
      "[(['hi'], 'greeting'), (['how'], 'greeting'), (['is', 'anyone'], 'greeting'), (['hey'], 'greeting'), (['hola'], 'greeting'), (['hello'], 'greeting'), (['good', 'day'], 'greeting'), (['bye'], 'goodbye'), (['see', 'later'], 'goodbye'), (['goodbye'], 'goodbye'), (['nice', 'chatting', 'bye'], 'goodbye'), (['till', 'next', 'time'], 'goodbye'), (['thanks'], 'thanks'), (['thank'], 'thanks'), (['that', 'helpful'], 'thanks'), (['awesome', 'thanks'], 'thanks'), (['thanks', 'helping'], 'thanks'), (['how', 'could', 'help'], 'options'), (['what'], 'options'), (['what', 'help', 'provide'], 'options'), (['how', 'helpful'], 'options'), (['what', 'support', 'offered'], 'options'), (['how', 'check', 'adverse', 'drug', 'reaction'], 'adverse_drug'), (['open', 'adverse', 'drug', 'module'], 'adverse_drug'), (['give', 'list', 'drug', 'causing', 'adverse', 'behavior'], 'adverse_drug'), (['list', 'drug', 'suitable', 'patient', 'adverse', 'reaction'], 'adverse_drug'), (['which', 'drug', 'dont', 'adverse', 'reaction'], 'adverse_drug'), (['open', 'blood', 'pressure', 'module'], 'blood_pressure'), (['task', 'related', 'blood', 'pressure'], 'blood_pressure'), (['blood', 'pressure', 'data', 'entry'], 'blood_pressure'), (['i', 'want', 'log', 'blood', 'pressure', 'result'], 'blood_pressure'), (['blood', 'pressure', 'data', 'management'], 'blood_pressure'), (['i', 'want', 'search', 'blood', 'pressure', 'result', 'history'], 'blood_pressure_search'), (['blood', 'pressure', 'patient'], 'blood_pressure_search'), (['load', 'patient', 'blood', 'pressure', 'result'], 'blood_pressure_search'), (['show', 'blood', 'pressure', 'result', 'patient'], 'blood_pressure_search'), (['find', 'blood', 'pressure', 'result', 'id'], 'blood_pressure_search'), (['find', 'pharmacy'], 'pharmacy_search'), (['find', 'pharmacy'], 'pharmacy_search'), (['list', 'pharmacy', 'nearby'], 'pharmacy_search'), (['locate', 'pharmacy'], 'pharmacy_search'), (['search', 'pharmacy'], 'pharmacy_search'), (['lookup', 'hospital'], 'hospital_search'), (['searching', 'hospital', 'transfer', 'patient'], 'hospital_search'), (['i', 'want', 'search', 'hospital', 'data'], 'hospital_search'), (['hospital', 'lookup', 'patient'], 'hospital_search'), (['looking', 'hospital', 'detail'], 'hospital_search')]\n"
     ]
    }
   ],
   "source": [
    "print(documents)"
   ]
  },
  {
   "cell_type": "markdown",
   "metadata": {},
   "source": [
    "# Creating train and test data"
   ]
  },
  {
   "cell_type": "markdown",
   "metadata": {},
   "source": [
    " Our input will be the pattern and output will be the class our input pattern belongs to. But the computer doesn’t understand text so we will convert text into numbers."
   ]
  },
  {
   "cell_type": "code",
   "execution_count": 8,
   "metadata": {},
   "outputs": [
    {
     "name": "stdout",
     "output_type": "stream",
     "text": [
      "Training data created!\n"
     ]
    }
   ],
   "source": [
    "#create training array\n",
    "train = []\n",
    "\n",
    "#create empty output array\n",
    "out_empty = [0] * len(classes)\n",
    "\n",
    "#training set, bag of words for each sentence\n",
    "for doc in documents:\n",
    "    \n",
    "    #initialize bag of words\n",
    "    bag = []\n",
    "    \n",
    "    #list of tokenized words for each document\n",
    "    pattern_words = doc[0]\n",
    "    \n",
    "    #create bag of words array with 1, if the word match found in current position\n",
    "    for w in words:\n",
    "        if w in pattern_words:\n",
    "            bag.append(1)\n",
    "        else:\n",
    "            bag.append(0)\n",
    "            \n",
    "    # output is a '0' for each tag and '1' for current tag (for each pattern)\n",
    "    out_row = list(out_empty)\n",
    "    out_row[classes.index(doc[1])] = 1\n",
    "    \n",
    "    train.append((bag, out_row))\n",
    "    \n",
    "np.random.shuffle(train)\n",
    "train = np.array(train)\n",
    "\n",
    "train_x = list(train[:, 0])\n",
    "train_y = list(train[:, 1])\n",
    "\n",
    "print(\"Training data created!\")"
   ]
  },
  {
   "cell_type": "code",
   "execution_count": 9,
   "metadata": {},
   "outputs": [
    {
     "name": "stdout",
     "output_type": "stream",
     "text": [
      "['hi'] 4\n",
      "['how'] 4\n",
      "['is', 'anyone'] 4\n",
      "['hey'] 4\n",
      "['hola'] 4\n",
      "['hello'] 4\n",
      "['good', 'day'] 4\n",
      "['bye'] 3\n",
      "['see', 'later'] 3\n",
      "['goodbye'] 3\n",
      "['nice', 'chatting', 'bye'] 3\n",
      "['till', 'next', 'time'] 3\n",
      "['thanks'] 8\n",
      "['thank'] 8\n",
      "['that', 'helpful'] 8\n",
      "['awesome', 'thanks'] 8\n",
      "['thanks', 'helping'] 8\n",
      "['how', 'could', 'help'] 6\n",
      "['what'] 6\n",
      "['what', 'help', 'provide'] 6\n",
      "['how', 'helpful'] 6\n",
      "['what', 'support', 'offered'] 6\n",
      "['how', 'check', 'adverse', 'drug', 'reaction'] 0\n",
      "['open', 'adverse', 'drug', 'module'] 0\n",
      "['give', 'list', 'drug', 'causing', 'adverse', 'behavior'] 0\n",
      "['list', 'drug', 'suitable', 'patient', 'adverse', 'reaction'] 0\n",
      "['which', 'drug', 'dont', 'adverse', 'reaction'] 0\n",
      "['open', 'blood', 'pressure', 'module'] 1\n",
      "['task', 'related', 'blood', 'pressure'] 1\n",
      "['blood', 'pressure', 'data', 'entry'] 1\n",
      "['i', 'want', 'log', 'blood', 'pressure', 'result'] 1\n",
      "['blood', 'pressure', 'data', 'management'] 1\n",
      "['i', 'want', 'search', 'blood', 'pressure', 'result', 'history'] 2\n",
      "['blood', 'pressure', 'patient'] 2\n",
      "['load', 'patient', 'blood', 'pressure', 'result'] 2\n",
      "['show', 'blood', 'pressure', 'result', 'patient'] 2\n",
      "['find', 'blood', 'pressure', 'result', 'id'] 2\n",
      "['find', 'pharmacy'] 7\n",
      "['find', 'pharmacy'] 7\n",
      "['list', 'pharmacy', 'nearby'] 7\n",
      "['locate', 'pharmacy'] 7\n",
      "['search', 'pharmacy'] 7\n",
      "['lookup', 'hospital'] 5\n",
      "['searching', 'hospital', 'transfer', 'patient'] 5\n",
      "['i', 'want', 'search', 'hospital', 'data'] 5\n",
      "['hospital', 'lookup', 'patient'] 5\n",
      "['looking', 'hospital', 'detail'] 5\n"
     ]
    }
   ],
   "source": [
    "for doc in documents:\n",
    "    print(doc[0],classes.index(doc[1]))"
   ]
  },
  {
   "cell_type": "markdown",
   "metadata": {},
   "source": [
    "# Build the model"
   ]
  },
  {
   "cell_type": "code",
   "execution_count": 10,
   "metadata": {},
   "outputs": [
    {
     "name": "stderr",
     "output_type": "stream",
     "text": [
      "Using TensorFlow backend.\n"
     ]
    }
   ],
   "source": [
    "import keras\n",
    "from keras.models import Sequential\n",
    "from keras.layers import Dense, Dropout, Activation\n",
    "from keras.optimizers import SGD"
   ]
  },
  {
   "cell_type": "code",
   "execution_count": 11,
   "metadata": {},
   "outputs": [
    {
     "name": "stdout",
     "output_type": "stream",
     "text": [
      "[[0 0 0 ... 0 0 0]\n",
      " [0 0 0 ... 0 0 0]\n",
      " [0 0 0 ... 0 0 0]\n",
      " ...\n",
      " [0 0 0 ... 0 0 0]\n",
      " [0 0 0 ... 0 0 0]\n",
      " [0 0 0 ... 0 0 0]]\n",
      "<class 'numpy.ndarray'>\n"
     ]
    }
   ],
   "source": [
    "#print(type(train_x))#list of lists\n",
    "#print(train_x)\n",
    "print(np.array(train_x))\n",
    "print(type(np.array(train_x)))"
   ]
  },
  {
   "cell_type": "code",
   "execution_count": 12,
   "metadata": {},
   "outputs": [
    {
     "name": "stdout",
     "output_type": "stream",
     "text": [
      "WARNING:tensorflow:From E:\\notebooks\\anaconda\\lib\\site-packages\\tensorflow\\python\\ops\\resource_variable_ops.py:435: colocate_with (from tensorflow.python.framework.ops) is deprecated and will be removed in a future version.\n",
      "Instructions for updating:\n",
      "Colocations handled automatically by placer.\n",
      "WARNING:tensorflow:From E:\\notebooks\\anaconda\\lib\\site-packages\\tensorflow\\python\\ops\\math_ops.py:3066: to_int32 (from tensorflow.python.ops.math_ops) is deprecated and will be removed in a future version.\n",
      "Instructions for updating:\n",
      "Use tf.cast instead.\n",
      "Epoch 1/200\n",
      "47/47 [==============================] - ETA: 3s - loss: 2.2673 - accuracy: 0.20 - 0s 10ms/step - loss: 2.1926 - accuracy: 0.1915\n",
      "Epoch 2/200\n",
      "47/47 [==============================] - ETA: 0s - loss: 2.1350 - accuracy: 0.0000e+ - 0s 514us/step - loss: 2.2084 - accuracy: 0.0638\n",
      "Epoch 3/200\n",
      "47/47 [==============================] - ETA: 0s - loss: 2.0244 - accuracy: 0.60 - 0s 507us/step - loss: 2.1666 - accuracy: 0.2766\n",
      "Epoch 4/200\n",
      "47/47 [==============================] - ETA: 0s - loss: 2.3223 - accuracy: 0.0000e+ - 0s 315us/step - loss: 2.1847 - accuracy: 0.1702\n",
      "Epoch 5/200\n",
      "47/47 [==============================] - ETA: 0s - loss: 2.0716 - accuracy: 0.20 - 0s 454us/step - loss: 2.0719 - accuracy: 0.2766\n",
      "Epoch 6/200\n",
      "47/47 [==============================] - ETA: 0s - loss: 2.2017 - accuracy: 0.20 - 0s 348us/step - loss: 2.0757 - accuracy: 0.2766\n",
      "Epoch 7/200\n",
      "47/47 [==============================] - ETA: 0s - loss: 2.0375 - accuracy: 0.20 - 0s 380us/step - loss: 2.0363 - accuracy: 0.2340\n",
      "Epoch 8/200\n",
      "47/47 [==============================] - ETA: 0s - loss: 2.0934 - accuracy: 0.0000e+ - 0s 580us/step - loss: 1.9808 - accuracy: 0.2766\n",
      "Epoch 9/200\n",
      "47/47 [==============================] - ETA: 0s - loss: 1.6671 - accuracy: 0.80 - 0s 538us/step - loss: 1.8872 - accuracy: 0.5319\n",
      "Epoch 10/200\n",
      "47/47 [==============================] - ETA: 0s - loss: 1.7101 - accuracy: 0.60 - 0s 602us/step - loss: 1.9086 - accuracy: 0.4043\n",
      "Epoch 11/200\n",
      "47/47 [==============================] - ETA: 0s - loss: 1.6544 - accuracy: 0.20 - 0s 581us/step - loss: 1.8545 - accuracy: 0.4043\n",
      "Epoch 12/200\n",
      "47/47 [==============================] - ETA: 0s - loss: 1.7973 - accuracy: 0.40 - 0s 571us/step - loss: 1.7728 - accuracy: 0.5106\n",
      "Epoch 13/200\n",
      "47/47 [==============================] - ETA: 0s - loss: 1.5792 - accuracy: 0.80 - 0s 559us/step - loss: 1.7028 - accuracy: 0.5319\n",
      "Epoch 14/200\n",
      "47/47 [==============================] - ETA: 0s - loss: 1.4827 - accuracy: 0.60 - 0s 549us/step - loss: 1.5491 - accuracy: 0.6596\n",
      "Epoch 15/200\n",
      "47/47 [==============================] - ETA: 0s - loss: 1.5300 - accuracy: 1.00 - 0s 570us/step - loss: 1.5781 - accuracy: 0.7447\n",
      "Epoch 16/200\n",
      "47/47 [==============================] - ETA: 0s - loss: 1.6097 - accuracy: 0.60 - 0s 549us/step - loss: 1.4881 - accuracy: 0.6809\n",
      "Epoch 17/200\n",
      "47/47 [==============================] - ETA: 0s - loss: 1.4352 - accuracy: 0.80 - 0s 517us/step - loss: 1.4389 - accuracy: 0.7021\n",
      "Epoch 18/200\n",
      "47/47 [==============================] - ETA: 0s - loss: 1.2076 - accuracy: 1.00 - 0s 528us/step - loss: 1.3960 - accuracy: 0.6170\n",
      "Epoch 19/200\n",
      "47/47 [==============================] - ETA: 0s - loss: 1.4601 - accuracy: 0.60 - 0s 570us/step - loss: 1.2971 - accuracy: 0.8298\n",
      "Epoch 20/200\n",
      "47/47 [==============================] - ETA: 0s - loss: 1.1961 - accuracy: 0.80 - 0s 559us/step - loss: 1.1776 - accuracy: 0.8085\n",
      "Epoch 21/200\n",
      "47/47 [==============================] - ETA: 0s - loss: 1.2372 - accuracy: 0.80 - 0s 570us/step - loss: 1.1696 - accuracy: 0.7660\n",
      "Epoch 22/200\n",
      "47/47 [==============================] - ETA: 0s - loss: 0.9989 - accuracy: 1.00 - 0s 617us/step - loss: 1.0462 - accuracy: 0.7234\n",
      "Epoch 23/200\n",
      "47/47 [==============================] - ETA: 0s - loss: 0.9331 - accuracy: 1.00 - 0s 599us/step - loss: 0.9781 - accuracy: 0.8085\n",
      "Epoch 24/200\n",
      "47/47 [==============================] - ETA: 0s - loss: 0.9509 - accuracy: 0.80 - 0s 613us/step - loss: 0.9238 - accuracy: 0.8511\n",
      "Epoch 25/200\n",
      "47/47 [==============================] - ETA: 0s - loss: 0.8241 - accuracy: 0.80 - 0s 560us/step - loss: 0.8808 - accuracy: 0.8723\n",
      "Epoch 26/200\n",
      "47/47 [==============================] - ETA: 0s - loss: 1.4725 - accuracy: 0.60 - 0s 596us/step - loss: 0.8338 - accuracy: 0.8723\n",
      "Epoch 27/200\n",
      "47/47 [==============================] - ETA: 0s - loss: 0.8485 - accuracy: 1.00 - 0s 602us/step - loss: 0.8146 - accuracy: 0.8511\n",
      "Epoch 28/200\n",
      "47/47 [==============================] - ETA: 0s - loss: 0.5263 - accuracy: 1.00 - 0s 591us/step - loss: 0.7674 - accuracy: 0.8936\n",
      "Epoch 29/200\n",
      "47/47 [==============================] - ETA: 0s - loss: 0.8013 - accuracy: 0.80 - 0s 559us/step - loss: 0.7841 - accuracy: 0.8298\n",
      "Epoch 30/200\n",
      "47/47 [==============================] - ETA: 0s - loss: 0.7573 - accuracy: 1.00 - 0s 580us/step - loss: 0.5430 - accuracy: 1.0000\n",
      "Epoch 31/200\n",
      "47/47 [==============================] - ETA: 0s - loss: 0.5339 - accuracy: 1.00 - 0s 559us/step - loss: 0.5796 - accuracy: 0.9149\n",
      "Epoch 32/200\n",
      "47/47 [==============================] - ETA: 0s - loss: 0.6141 - accuracy: 0.80 - 0s 548us/step - loss: 0.6158 - accuracy: 0.8936\n",
      "Epoch 33/200\n",
      "47/47 [==============================] - ETA: 0s - loss: 0.5541 - accuracy: 0.80 - 0s 591us/step - loss: 0.5289 - accuracy: 0.9149\n",
      "Epoch 34/200\n",
      "47/47 [==============================] - ETA: 0s - loss: 0.4528 - accuracy: 0.80 - 0s 571us/step - loss: 0.5095 - accuracy: 0.9362\n",
      "Epoch 35/200\n",
      "47/47 [==============================] - ETA: 0s - loss: 0.8466 - accuracy: 0.60 - 0s 559us/step - loss: 0.5365 - accuracy: 0.9149\n",
      "Epoch 36/200\n",
      "47/47 [==============================] - ETA: 0s - loss: 0.1024 - accuracy: 1.00 - 0s 548us/step - loss: 0.4248 - accuracy: 0.9362\n",
      "Epoch 37/200\n",
      "47/47 [==============================] - ETA: 0s - loss: 0.2994 - accuracy: 1.00 - 0s 538us/step - loss: 0.3916 - accuracy: 0.9574\n",
      "Epoch 38/200\n",
      "47/47 [==============================] - ETA: 0s - loss: 0.3779 - accuracy: 0.80 - 0s 591us/step - loss: 0.3142 - accuracy: 0.9787\n",
      "Epoch 39/200\n",
      "47/47 [==============================] - ETA: 0s - loss: 0.2289 - accuracy: 1.00 - 0s 580us/step - loss: 0.4819 - accuracy: 0.9362\n",
      "Epoch 40/200\n",
      "47/47 [==============================] - ETA: 0s - loss: 0.9861 - accuracy: 0.80 - 0s 612us/step - loss: 0.3748 - accuracy: 0.9574\n",
      "Epoch 41/200\n",
      "47/47 [==============================] - ETA: 0s - loss: 0.1885 - accuracy: 1.00 - 0s 602us/step - loss: 0.3189 - accuracy: 0.9574\n",
      "Epoch 42/200\n",
      "47/47 [==============================] - ETA: 0s - loss: 0.2399 - accuracy: 1.00 - 0s 633us/step - loss: 0.3792 - accuracy: 0.8936\n",
      "Epoch 43/200\n",
      "47/47 [==============================] - ETA: 0s - loss: 0.0793 - accuracy: 1.00 - 0s 602us/step - loss: 0.3333 - accuracy: 0.9362\n",
      "Epoch 44/200\n",
      "47/47 [==============================] - ETA: 0s - loss: 0.3201 - accuracy: 1.00 - 0s 602us/step - loss: 0.3332 - accuracy: 0.9362\n",
      "Epoch 45/200\n",
      "47/47 [==============================] - ETA: 0s - loss: 0.3495 - accuracy: 1.00 - 0s 570us/step - loss: 0.3031 - accuracy: 1.0000\n",
      "Epoch 46/200\n",
      "47/47 [==============================] - ETA: 0s - loss: 0.4682 - accuracy: 1.00 - 0s 602us/step - loss: 0.3023 - accuracy: 0.9362\n",
      "Epoch 47/200\n",
      "47/47 [==============================] - ETA: 0s - loss: 0.2478 - accuracy: 1.00 - 0s 623us/step - loss: 0.2864 - accuracy: 0.9574\n",
      "Epoch 48/200\n",
      "47/47 [==============================] - ETA: 0s - loss: 0.0257 - accuracy: 1.00 - 0s 412us/step - loss: 0.2491 - accuracy: 0.9574\n",
      "Epoch 49/200\n",
      "47/47 [==============================] - ETA: 0s - loss: 0.8895 - accuracy: 0.60 - 0s 611us/step - loss: 0.3277 - accuracy: 0.9149\n",
      "Epoch 50/200\n",
      "47/47 [==============================] - ETA: 0s - loss: 0.1543 - accuracy: 1.00 - 0s 591us/step - loss: 0.2037 - accuracy: 0.9574\n",
      "Epoch 51/200\n",
      "47/47 [==============================] - ETA: 0s - loss: 0.2113 - accuracy: 1.00 - 0s 601us/step - loss: 0.2089 - accuracy: 0.9787\n",
      "Epoch 52/200\n",
      "47/47 [==============================] - ETA: 0s - loss: 0.3462 - accuracy: 0.80 - 0s 591us/step - loss: 0.2666 - accuracy: 0.9149\n",
      "Epoch 53/200\n",
      "47/47 [==============================] - ETA: 0s - loss: 0.0556 - accuracy: 1.00 - 0s 570us/step - loss: 0.1883 - accuracy: 0.9574\n",
      "Epoch 54/200\n",
      "47/47 [==============================] - ETA: 0s - loss: 0.1171 - accuracy: 1.00 - 0s 579us/step - loss: 0.2086 - accuracy: 0.9574\n",
      "Epoch 55/200\n",
      "47/47 [==============================] - ETA: 0s - loss: 0.2159 - accuracy: 1.00 - 0s 570us/step - loss: 0.1624 - accuracy: 1.0000\n",
      "Epoch 56/200\n",
      "47/47 [==============================] - ETA: 0s - loss: 0.1144 - accuracy: 1.00 - 0s 591us/step - loss: 0.2583 - accuracy: 0.9574\n",
      "Epoch 57/200\n",
      "47/47 [==============================] - ETA: 0s - loss: 0.1684 - accuracy: 1.00 - 0s 591us/step - loss: 0.1040 - accuracy: 1.0000\n",
      "Epoch 58/200\n",
      "47/47 [==============================] - ETA: 0s - loss: 0.1618 - accuracy: 1.00 - 0s 602us/step - loss: 0.1836 - accuracy: 0.9787\n",
      "Epoch 59/200\n",
      "47/47 [==============================] - ETA: 0s - loss: 0.0889 - accuracy: 1.00 - 0s 654us/step - loss: 0.1117 - accuracy: 0.9787\n",
      "Epoch 60/200\n",
      "47/47 [==============================] - ETA: 0s - loss: 0.0180 - accuracy: 1.00 - 0s 715us/step - loss: 0.1435 - accuracy: 0.9787\n",
      "Epoch 61/200\n",
      "47/47 [==============================] - ETA: 0s - loss: 0.0121 - accuracy: 1.00 - 0s 749us/step - loss: 0.1705 - accuracy: 0.9362\n",
      "Epoch 62/200\n",
      "47/47 [==============================] - ETA: 0s - loss: 0.0151 - accuracy: 1.00 - 0s 612us/step - loss: 0.1701 - accuracy: 0.9787\n",
      "Epoch 63/200\n",
      "47/47 [==============================] - ETA: 0s - loss: 0.1600 - accuracy: 1.00 - 0s 622us/step - loss: 0.1001 - accuracy: 1.0000\n",
      "Epoch 64/200\n",
      "47/47 [==============================] - ETA: 0s - loss: 0.1309 - accuracy: 1.00 - 0s 602us/step - loss: 0.1137 - accuracy: 1.0000\n",
      "Epoch 65/200\n",
      "47/47 [==============================] - ETA: 0s - loss: 0.2363 - accuracy: 0.80 - 0s 675us/step - loss: 0.1683 - accuracy: 0.9574\n",
      "Epoch 66/200\n",
      "47/47 [==============================] - ETA: 0s - loss: 0.1174 - accuracy: 1.00 - 0s 675us/step - loss: 0.0835 - accuracy: 1.0000\n",
      "Epoch 67/200\n",
      "47/47 [==============================] - ETA: 0s - loss: 0.0540 - accuracy: 1.00 - 0s 541us/step - loss: 0.1405 - accuracy: 0.9787\n",
      "Epoch 68/200\n",
      "47/47 [==============================] - ETA: 0s - loss: 0.0388 - accuracy: 1.00 - 0s 675us/step - loss: 0.1739 - accuracy: 0.9362\n",
      "Epoch 69/200\n",
      "47/47 [==============================] - ETA: 0s - loss: 0.0261 - accuracy: 1.00 - 0s 612us/step - loss: 0.0971 - accuracy: 0.9787\n",
      "Epoch 70/200\n",
      "47/47 [==============================] - ETA: 0s - loss: 0.1188 - accuracy: 1.00 - 0s 602us/step - loss: 0.1356 - accuracy: 1.0000\n",
      "Epoch 71/200\n",
      "47/47 [==============================] - ETA: 0s - loss: 0.0158 - accuracy: 1.00 - 0s 579us/step - loss: 0.0967 - accuracy: 1.0000\n",
      "Epoch 72/200\n",
      "47/47 [==============================] - ETA: 0s - loss: 0.3214 - accuracy: 0.80 - 0s 506us/step - loss: 0.1201 - accuracy: 0.9787\n",
      "Epoch 73/200\n",
      "47/47 [==============================] - ETA: 0s - loss: 0.1294 - accuracy: 1.00 - 0s 612us/step - loss: 0.0981 - accuracy: 0.9787\n",
      "Epoch 74/200\n",
      "47/47 [==============================] - ETA: 0s - loss: 0.0936 - accuracy: 1.00 - 0s 380us/step - loss: 0.1056 - accuracy: 1.0000\n",
      "Epoch 75/200\n",
      "47/47 [==============================] - ETA: 0s - loss: 0.0655 - accuracy: 1.00 - 0s 591us/step - loss: 0.1382 - accuracy: 0.9574\n",
      "Epoch 76/200\n",
      "47/47 [==============================] - ETA: 0s - loss: 0.0369 - accuracy: 1.00 - 0s 739us/step - loss: 0.1635 - accuracy: 0.9574\n",
      "Epoch 77/200\n",
      "47/47 [==============================] - ETA: 0s - loss: 0.1076 - accuracy: 1.00 - 0s 623us/step - loss: 0.1203 - accuracy: 0.9787\n",
      "Epoch 78/200\n",
      "47/47 [==============================] - ETA: 0s - loss: 0.0200 - accuracy: 1.00 - 0s 591us/step - loss: 0.0953 - accuracy: 1.0000\n",
      "Epoch 79/200\n",
      "47/47 [==============================] - ETA: 0s - loss: 0.0100 - accuracy: 1.00 - 0s 602us/step - loss: 0.1565 - accuracy: 0.9574\n",
      "Epoch 80/200\n",
      "47/47 [==============================] - ETA: 0s - loss: 0.0235 - accuracy: 1.00 - 0s 612us/step - loss: 0.0555 - accuracy: 1.0000\n",
      "Epoch 81/200\n",
      "47/47 [==============================] - ETA: 0s - loss: 0.0311 - accuracy: 1.00 - 0s 728us/step - loss: 0.0544 - accuracy: 1.0000\n",
      "Epoch 82/200\n",
      "47/47 [==============================] - ETA: 0s - loss: 0.0188 - accuracy: 1.00 - 0s 680us/step - loss: 0.0765 - accuracy: 0.9787\n",
      "Epoch 83/200\n",
      "47/47 [==============================] - ETA: 0s - loss: 0.1331 - accuracy: 1.00 - 0s 697us/step - loss: 0.0823 - accuracy: 1.0000\n",
      "Epoch 84/200\n",
      "47/47 [==============================] - ETA: 0s - loss: 0.0626 - accuracy: 1.00 - 0s 685us/step - loss: 0.1425 - accuracy: 0.9787\n",
      "Epoch 85/200\n",
      "47/47 [==============================] - ETA: 0s - loss: 0.0627 - accuracy: 1.00 - 0s 454us/step - loss: 0.1099 - accuracy: 0.9787\n",
      "Epoch 86/200\n",
      "47/47 [==============================] - ETA: 0s - loss: 0.3843 - accuracy: 1.00 - 0s 549us/step - loss: 0.0774 - accuracy: 1.0000\n",
      "Epoch 87/200\n",
      "47/47 [==============================] - ETA: 0s - loss: 0.4461 - accuracy: 0.80 - 0s 483us/step - loss: 0.1273 - accuracy: 0.9787\n",
      "Epoch 88/200\n",
      "47/47 [==============================] - ETA: 0s - loss: 0.1162 - accuracy: 1.00 - 0s 598us/step - loss: 0.1137 - accuracy: 0.9787\n",
      "Epoch 89/200\n",
      "47/47 [==============================] - ETA: 0s - loss: 0.0519 - accuracy: 1.00 - 0s 612us/step - loss: 0.0463 - accuracy: 1.0000\n",
      "Epoch 90/200\n",
      "47/47 [==============================] - ETA: 0s - loss: 0.0267 - accuracy: 1.00 - 0s 570us/step - loss: 0.0929 - accuracy: 0.9787\n",
      "Epoch 91/200\n",
      "47/47 [==============================] - ETA: 0s - loss: 0.1052 - accuracy: 1.00 - 0s 433us/step - loss: 0.1062 - accuracy: 0.9787\n",
      "Epoch 92/200\n",
      "47/47 [==============================] - ETA: 0s - loss: 0.2104 - accuracy: 0.80 - 0s 622us/step - loss: 0.0851 - accuracy: 0.9787\n",
      "Epoch 93/200\n",
      "47/47 [==============================] - ETA: 0s - loss: 0.0458 - accuracy: 1.00 - 0s 549us/step - loss: 0.1043 - accuracy: 0.9787\n",
      "Epoch 94/200\n",
      "47/47 [==============================] - ETA: 0s - loss: 0.0112 - accuracy: 1.00 - 0s 535us/step - loss: 0.0603 - accuracy: 1.0000\n",
      "Epoch 95/200\n",
      "47/47 [==============================] - ETA: 0s - loss: 0.1212 - accuracy: 1.00 - 0s 361us/step - loss: 0.0675 - accuracy: 1.0000\n",
      "Epoch 96/200\n",
      "47/47 [==============================] - ETA: 0s - loss: 0.0131 - accuracy: 1.00 - 0s 433us/step - loss: 0.0402 - accuracy: 1.0000\n",
      "Epoch 97/200\n",
      "47/47 [==============================] - ETA: 0s - loss: 0.0433 - accuracy: 1.00 - 0s 591us/step - loss: 0.0635 - accuracy: 1.0000\n",
      "Epoch 98/200\n",
      "47/47 [==============================] - ETA: 0s - loss: 0.1722 - accuracy: 1.00 - 0s 541us/step - loss: 0.0974 - accuracy: 1.0000\n",
      "Epoch 99/200\n",
      "47/47 [==============================] - ETA: 0s - loss: 0.0270 - accuracy: 1.00 - 0s 612us/step - loss: 0.0772 - accuracy: 1.0000\n",
      "Epoch 100/200\n",
      "47/47 [==============================] - ETA: 0s - loss: 0.0268 - accuracy: 1.00 - 0s 591us/step - loss: 0.0251 - accuracy: 1.0000\n",
      "Epoch 101/200\n",
      "47/47 [==============================] - ETA: 0s - loss: 0.0294 - accuracy: 1.00 - 0s 570us/step - loss: 0.0921 - accuracy: 0.9787\n",
      "Epoch 102/200\n",
      "47/47 [==============================] - ETA: 0s - loss: 0.0831 - accuracy: 1.00 - 0s 633us/step - loss: 0.0546 - accuracy: 1.0000\n",
      "Epoch 103/200\n",
      "47/47 [==============================] - ETA: 0s - loss: 0.0554 - accuracy: 1.00 - 0s 570us/step - loss: 0.0641 - accuracy: 0.9787\n",
      "Epoch 104/200\n",
      "47/47 [==============================] - ETA: 0s - loss: 0.1578 - accuracy: 1.00 - 0s 568us/step - loss: 0.0564 - accuracy: 1.0000\n",
      "Epoch 105/200\n",
      "47/47 [==============================] - ETA: 0s - loss: 0.0187 - accuracy: 1.00 - 0s 622us/step - loss: 0.0234 - accuracy: 1.0000\n",
      "Epoch 106/200\n",
      "47/47 [==============================] - ETA: 0s - loss: 0.1144 - accuracy: 1.00 - 0s 591us/step - loss: 0.0416 - accuracy: 1.0000\n",
      "Epoch 107/200\n",
      "47/47 [==============================] - ETA: 0s - loss: 0.1369 - accuracy: 1.00 - 0s 580us/step - loss: 0.0751 - accuracy: 0.9787\n",
      "Epoch 108/200\n",
      "47/47 [==============================] - ETA: 0s - loss: 0.0032 - accuracy: 1.00 - 0s 570us/step - loss: 0.0354 - accuracy: 1.0000\n",
      "Epoch 109/200\n",
      "47/47 [==============================] - ETA: 0s - loss: 0.0402 - accuracy: 1.00 - 0s 602us/step - loss: 0.0569 - accuracy: 1.0000\n",
      "Epoch 110/200\n",
      "47/47 [==============================] - ETA: 0s - loss: 0.0917 - accuracy: 1.00 - 0s 591us/step - loss: 0.0775 - accuracy: 0.9787\n"
     ]
    },
    {
     "name": "stdout",
     "output_type": "stream",
     "text": [
      "Epoch 111/200\n",
      "47/47 [==============================] - ETA: 0s - loss: 0.0411 - accuracy: 1.00 - 0s 602us/step - loss: 0.0754 - accuracy: 0.9787\n",
      "Epoch 112/200\n",
      "47/47 [==============================] - ETA: 0s - loss: 0.0328 - accuracy: 1.00 - 0s 676us/step - loss: 0.0550 - accuracy: 0.9787\n",
      "Epoch 113/200\n",
      "47/47 [==============================] - ETA: 0s - loss: 0.0999 - accuracy: 1.00 - 0s 633us/step - loss: 0.0425 - accuracy: 1.0000\n",
      "Epoch 114/200\n",
      "47/47 [==============================] - ETA: 0s - loss: 0.0039 - accuracy: 1.00 - 0s 580us/step - loss: 0.1369 - accuracy: 0.9574\n",
      "Epoch 115/200\n",
      "47/47 [==============================] - ETA: 0s - loss: 0.0796 - accuracy: 1.00 - 0s 484us/step - loss: 0.0391 - accuracy: 1.0000\n",
      "Epoch 116/200\n",
      "47/47 [==============================] - ETA: 0s - loss: 0.1714 - accuracy: 0.80 - 0s 580us/step - loss: 0.0640 - accuracy: 0.9787\n",
      "Epoch 117/200\n",
      "47/47 [==============================] - ETA: 0s - loss: 0.0039 - accuracy: 1.00 - 0s 580us/step - loss: 0.0357 - accuracy: 1.0000\n",
      "Epoch 118/200\n",
      "47/47 [==============================] - ETA: 0s - loss: 0.0042 - accuracy: 1.00 - 0s 570us/step - loss: 0.0579 - accuracy: 0.9787\n",
      "Epoch 119/200\n",
      "47/47 [==============================] - ETA: 0s - loss: 0.0265 - accuracy: 1.00 - 0s 570us/step - loss: 0.0186 - accuracy: 1.0000\n",
      "Epoch 120/200\n",
      "47/47 [==============================] - ETA: 0s - loss: 0.1420 - accuracy: 1.00 - 0s 675us/step - loss: 0.0606 - accuracy: 0.9787\n",
      "Epoch 121/200\n",
      "47/47 [==============================] - ETA: 0s - loss: 0.0040 - accuracy: 1.00 - 0s 644us/step - loss: 0.0660 - accuracy: 0.9787\n",
      "Epoch 122/200\n",
      "47/47 [==============================] - ETA: 0s - loss: 0.0049 - accuracy: 1.00 - 0s 387us/step - loss: 0.0618 - accuracy: 0.9787\n",
      "Epoch 123/200\n",
      "47/47 [==============================] - ETA: 0s - loss: 0.0423 - accuracy: 1.00 - 0s 570us/step - loss: 0.0487 - accuracy: 1.0000\n",
      "Epoch 124/200\n",
      "47/47 [==============================] - ETA: 0s - loss: 0.0028 - accuracy: 1.00 - 0s 485us/step - loss: 0.0329 - accuracy: 1.0000\n",
      "Epoch 125/200\n",
      "47/47 [==============================] - ETA: 0s - loss: 0.1034 - accuracy: 1.00 - 0s 459us/step - loss: 0.0412 - accuracy: 1.0000\n",
      "Epoch 126/200\n",
      "47/47 [==============================] - ETA: 0s - loss: 0.0202 - accuracy: 1.00 - 0s 570us/step - loss: 0.0221 - accuracy: 1.0000\n",
      "Epoch 127/200\n",
      "47/47 [==============================] - ETA: 0s - loss: 0.0078 - accuracy: 1.00 - 0s 675us/step - loss: 0.1484 - accuracy: 0.9362\n",
      "Epoch 128/200\n",
      "47/47 [==============================] - ETA: 0s - loss: 0.0136 - accuracy: 1.00 - 0s 538us/step - loss: 0.0275 - accuracy: 1.0000\n",
      "Epoch 129/200\n",
      "47/47 [==============================] - ETA: 0s - loss: 0.0119 - accuracy: 1.00 - 0s 791us/step - loss: 0.0077 - accuracy: 1.0000\n",
      "Epoch 130/200\n",
      "47/47 [==============================] - ETA: 0s - loss: 0.0364 - accuracy: 1.00 - 0s 359us/step - loss: 0.0283 - accuracy: 1.0000\n",
      "Epoch 131/200\n",
      "47/47 [==============================] - ETA: 0s - loss: 0.1027 - accuracy: 1.00 - 0s 368us/step - loss: 0.0342 - accuracy: 1.0000\n",
      "Epoch 132/200\n",
      "47/47 [==============================] - ETA: 0s - loss: 0.0032 - accuracy: 1.00 - 0s 507us/step - loss: 0.0288 - accuracy: 1.0000\n",
      "Epoch 133/200\n",
      "47/47 [==============================] - ETA: 0s - loss: 0.0204 - accuracy: 1.00 - 0s 692us/step - loss: 0.0201 - accuracy: 1.0000\n",
      "Epoch 134/200\n",
      "47/47 [==============================] - ETA: 0s - loss: 0.0139 - accuracy: 1.00 - 0s 665us/step - loss: 0.0417 - accuracy: 1.0000\n",
      "Epoch 135/200\n",
      "47/47 [==============================] - ETA: 0s - loss: 0.0176 - accuracy: 1.00 - 0s 527us/step - loss: 0.0329 - accuracy: 1.0000\n",
      "Epoch 136/200\n",
      "47/47 [==============================] - ETA: 0s - loss: 0.0018 - accuracy: 1.00 - 0s 453us/step - loss: 0.0514 - accuracy: 0.9787\n",
      "Epoch 137/200\n",
      "47/47 [==============================] - ETA: 0s - loss: 0.0040 - accuracy: 1.00 - 0s 433us/step - loss: 0.0362 - accuracy: 1.0000\n",
      "Epoch 138/200\n",
      "47/47 [==============================] - ETA: 0s - loss: 0.0077 - accuracy: 1.00 - 0s 412us/step - loss: 0.0587 - accuracy: 0.9787\n",
      "Epoch 139/200\n",
      "47/47 [==============================] - ETA: 0s - loss: 0.0600 - accuracy: 1.00 - 0s 410us/step - loss: 0.0453 - accuracy: 1.0000\n",
      "Epoch 140/200\n",
      "47/47 [==============================] - ETA: 0s - loss: 0.0339 - accuracy: 1.00 - 0s 559us/step - loss: 0.0583 - accuracy: 1.0000\n",
      "Epoch 141/200\n",
      "47/47 [==============================] - ETA: 0s - loss: 0.0035 - accuracy: 1.00 - 0s 484us/step - loss: 0.0195 - accuracy: 1.0000\n",
      "Epoch 142/200\n",
      "47/47 [==============================] - ETA: 0s - loss: 0.0788 - accuracy: 1.00 - 0s 359us/step - loss: 0.0227 - accuracy: 1.0000\n",
      "Epoch 143/200\n",
      "47/47 [==============================] - ETA: 0s - loss: 2.3782e-04 - accuracy: 1.00 - 0s 369us/step - loss: 0.0313 - accuracy: 1.0000\n",
      "Epoch 144/200\n",
      "47/47 [==============================] - ETA: 0s - loss: 0.0292 - accuracy: 1.00 - 0s 327us/step - loss: 0.0225 - accuracy: 1.0000\n",
      "Epoch 145/200\n",
      "47/47 [==============================] - ETA: 0s - loss: 0.0016 - accuracy: 1.00 - 0s 422us/step - loss: 0.0432 - accuracy: 1.0000\n",
      "Epoch 146/200\n",
      "47/47 [==============================] - ETA: 0s - loss: 9.7185e-05 - accuracy: 1.00 - 0s 580us/step - loss: 0.0216 - accuracy: 1.0000\n",
      "Epoch 147/200\n",
      "47/47 [==============================] - ETA: 0s - loss: 5.1606e-04 - accuracy: 1.00 - 0s 623us/step - loss: 0.0090 - accuracy: 1.0000\n",
      "Epoch 148/200\n",
      "47/47 [==============================] - ETA: 0s - loss: 0.0040 - accuracy: 1.00 - 0s 590us/step - loss: 0.0357 - accuracy: 1.0000\n",
      "Epoch 149/200\n",
      "47/47 [==============================] - ETA: 0s - loss: 0.0331 - accuracy: 1.00 - 0s 348us/step - loss: 0.0518 - accuracy: 0.9787\n",
      "Epoch 150/200\n",
      "47/47 [==============================] - ETA: 0s - loss: 0.0203 - accuracy: 1.00 - 0s 401us/step - loss: 0.0360 - accuracy: 1.0000\n",
      "Epoch 151/200\n",
      "47/47 [==============================] - ETA: 0s - loss: 0.0054 - accuracy: 1.00 - 0s 644us/step - loss: 0.0356 - accuracy: 1.0000\n",
      "Epoch 152/200\n",
      "47/47 [==============================] - ETA: 0s - loss: 0.0013 - accuracy: 1.00 - 0s 623us/step - loss: 0.0260 - accuracy: 1.0000\n",
      "Epoch 153/200\n",
      "47/47 [==============================] - ETA: 0s - loss: 0.0909 - accuracy: 1.00 - 0s 559us/step - loss: 0.0331 - accuracy: 1.0000\n",
      "Epoch 154/200\n",
      "47/47 [==============================] - ETA: 0s - loss: 0.0363 - accuracy: 1.00 - 0s 612us/step - loss: 0.0230 - accuracy: 1.0000\n",
      "Epoch 155/200\n",
      "47/47 [==============================] - ETA: 0s - loss: 0.0012 - accuracy: 1.00 - 0s 633us/step - loss: 0.0113 - accuracy: 1.0000\n",
      "Epoch 156/200\n",
      "47/47 [==============================] - ETA: 0s - loss: 0.0061 - accuracy: 1.00 - 0s 507us/step - loss: 0.0203 - accuracy: 1.0000\n",
      "Epoch 157/200\n",
      "47/47 [==============================] - ETA: 0s - loss: 0.0013 - accuracy: 1.00 - 0s 570us/step - loss: 0.1259 - accuracy: 0.9362\n",
      "Epoch 158/200\n",
      "47/47 [==============================] - ETA: 0s - loss: 0.0094 - accuracy: 1.00 - 0s 454us/step - loss: 0.0426 - accuracy: 0.9787\n",
      "Epoch 159/200\n",
      "47/47 [==============================] - ETA: 0s - loss: 0.0147 - accuracy: 1.00 - 0s 559us/step - loss: 0.0238 - accuracy: 1.0000\n",
      "Epoch 160/200\n",
      "47/47 [==============================] - ETA: 0s - loss: 8.9197e-04 - accuracy: 1.00 - 0s 580us/step - loss: 0.0260 - accuracy: 1.0000\n",
      "Epoch 161/200\n",
      "47/47 [==============================] - ETA: 0s - loss: 0.0295 - accuracy: 1.00 - 0s 443us/step - loss: 0.0372 - accuracy: 1.0000\n",
      "Epoch 162/200\n",
      "47/47 [==============================] - ETA: 0s - loss: 0.0385 - accuracy: 1.00 - 0s 538us/step - loss: 0.0166 - accuracy: 1.0000\n",
      "Epoch 163/200\n",
      "47/47 [==============================] - ETA: 0s - loss: 0.0137 - accuracy: 1.00 - 0s 645us/step - loss: 0.0114 - accuracy: 1.0000\n",
      "Epoch 164/200\n",
      "47/47 [==============================] - ETA: 0s - loss: 0.0943 - accuracy: 1.00 - 0s 548us/step - loss: 0.0273 - accuracy: 1.0000\n",
      "Epoch 165/200\n",
      "47/47 [==============================] - ETA: 0s - loss: 0.0081 - accuracy: 1.00 - 0s 580us/step - loss: 0.0071 - accuracy: 1.0000\n",
      "Epoch 166/200\n",
      "47/47 [==============================] - ETA: 0s - loss: 0.0049 - accuracy: 1.00 - 0s 601us/step - loss: 0.0064 - accuracy: 1.0000\n",
      "Epoch 167/200\n",
      "47/47 [==============================] - ETA: 0s - loss: 0.0016 - accuracy: 1.00 - 0s 454us/step - loss: 0.0209 - accuracy: 1.0000\n",
      "Epoch 168/200\n",
      "47/47 [==============================] - ETA: 0s - loss: 0.0090 - accuracy: 1.00 - 0s 660us/step - loss: 0.0124 - accuracy: 1.0000\n",
      "Epoch 169/200\n",
      "47/47 [==============================] - ETA: 0s - loss: 0.0433 - accuracy: 1.00 - 0s 633us/step - loss: 0.0150 - accuracy: 1.0000\n",
      "Epoch 170/200\n",
      "47/47 [==============================] - ETA: 0s - loss: 8.4445e-04 - accuracy: 1.00 - 0s 577us/step - loss: 0.0125 - accuracy: 1.0000\n",
      "Epoch 171/200\n",
      "47/47 [==============================] - ETA: 0s - loss: 0.0412 - accuracy: 1.00 - 0s 580us/step - loss: 0.0251 - accuracy: 1.0000\n",
      "Epoch 172/200\n",
      "47/47 [==============================] - ETA: 0s - loss: 0.0205 - accuracy: 1.00 - 0s 475us/step - loss: 0.0050 - accuracy: 1.0000\n",
      "Epoch 173/200\n",
      "47/47 [==============================] - ETA: 0s - loss: 0.0065 - accuracy: 1.00 - 0s 570us/step - loss: 0.0548 - accuracy: 0.9787\n",
      "Epoch 174/200\n",
      "47/47 [==============================] - ETA: 0s - loss: 0.0586 - accuracy: 1.00 - 0s 572us/step - loss: 0.0184 - accuracy: 1.0000\n",
      "Epoch 175/200\n",
      "47/47 [==============================] - ETA: 0s - loss: 0.0096 - accuracy: 1.00 - 0s 549us/step - loss: 0.0105 - accuracy: 1.0000\n",
      "Epoch 176/200\n",
      "47/47 [==============================] - ETA: 0s - loss: 0.0010 - accuracy: 1.00 - 0s 553us/step - loss: 0.0659 - accuracy: 0.9787\n",
      "Epoch 177/200\n",
      "47/47 [==============================] - ETA: 0s - loss: 0.0020 - accuracy: 1.00 - 0s 580us/step - loss: 0.0192 - accuracy: 1.0000\n",
      "Epoch 178/200\n",
      "47/47 [==============================] - ETA: 0s - loss: 0.0158 - accuracy: 1.00 - 0s 549us/step - loss: 0.0303 - accuracy: 0.9787\n",
      "Epoch 179/200\n",
      "47/47 [==============================] - ETA: 0s - loss: 0.0046 - accuracy: 1.00 - 0s 545us/step - loss: 0.0197 - accuracy: 1.0000\n",
      "Epoch 180/200\n",
      "47/47 [==============================] - ETA: 0s - loss: 0.0021 - accuracy: 1.00 - 0s 570us/step - loss: 0.0291 - accuracy: 1.0000\n",
      "Epoch 181/200\n",
      "47/47 [==============================] - ETA: 0s - loss: 0.0169 - accuracy: 1.00 - 0s 561us/step - loss: 0.0168 - accuracy: 1.0000\n",
      "Epoch 182/200\n",
      "47/47 [==============================] - ETA: 0s - loss: 0.0051 - accuracy: 1.00 - 0s 570us/step - loss: 0.0296 - accuracy: 1.0000\n",
      "Epoch 183/200\n",
      "47/47 [==============================] - ETA: 0s - loss: 4.1884e-04 - accuracy: 1.00 - 0s 570us/step - loss: 0.0139 - accuracy: 1.0000\n",
      "Epoch 184/200\n",
      "47/47 [==============================] - ETA: 0s - loss: 0.0410 - accuracy: 1.00 - 0s 570us/step - loss: 0.0212 - accuracy: 1.0000\n",
      "Epoch 185/200\n",
      "47/47 [==============================] - ETA: 0s - loss: 0.0151 - accuracy: 1.00 - 0s 612us/step - loss: 0.0397 - accuracy: 0.9787\n",
      "Epoch 186/200\n",
      "47/47 [==============================] - ETA: 0s - loss: 0.0799 - accuracy: 1.00 - 0s 654us/step - loss: 0.0183 - accuracy: 1.0000\n",
      "Epoch 187/200\n",
      "47/47 [==============================] - ETA: 0s - loss: 0.0024 - accuracy: 1.00 - 0s 475us/step - loss: 0.0319 - accuracy: 1.0000\n",
      "Epoch 188/200\n",
      "47/47 [==============================] - ETA: 0s - loss: 4.3929e-04 - accuracy: 1.00 - 0s 485us/step - loss: 0.0279 - accuracy: 0.9787\n",
      "Epoch 189/200\n",
      "47/47 [==============================] - ETA: 0s - loss: 0.0010 - accuracy: 1.00 - 0s 464us/step - loss: 0.0210 - accuracy: 1.0000\n",
      "Epoch 190/200\n",
      "47/47 [==============================] - ETA: 0s - loss: 0.0016 - accuracy: 1.00 - 0s 887us/step - loss: 0.0247 - accuracy: 1.0000\n",
      "Epoch 191/200\n",
      "47/47 [==============================] - ETA: 0s - loss: 0.0021 - accuracy: 1.00 - 0s 646us/step - loss: 0.0221 - accuracy: 1.0000\n",
      "Epoch 192/200\n",
      "47/47 [==============================] - ETA: 0s - loss: 0.0685 - accuracy: 1.00 - 0s 433us/step - loss: 0.0316 - accuracy: 1.0000\n",
      "Epoch 193/200\n",
      "47/47 [==============================] - ETA: 0s - loss: 0.0084 - accuracy: 1.00 - 0s 464us/step - loss: 0.0076 - accuracy: 1.0000\n",
      "Epoch 194/200\n",
      "47/47 [==============================] - ETA: 0s - loss: 0.0106 - accuracy: 1.00 - 0s 443us/step - loss: 0.0065 - accuracy: 1.0000\n",
      "Epoch 195/200\n",
      "47/47 [==============================] - ETA: 0s - loss: 4.4265e-04 - accuracy: 1.00 - 0s 517us/step - loss: 0.0093 - accuracy: 1.0000\n",
      "Epoch 196/200\n",
      "47/47 [==============================] - ETA: 0s - loss: 0.0086 - accuracy: 1.00 - 0s 380us/step - loss: 0.0153 - accuracy: 1.0000\n",
      "Epoch 197/200\n",
      "47/47 [==============================] - ETA: 0s - loss: 0.0146 - accuracy: 1.00 - 0s 697us/step - loss: 0.0319 - accuracy: 1.0000\n",
      "Epoch 198/200\n",
      "47/47 [==============================] - ETA: 0s - loss: 0.0062 - accuracy: 1.00 - 0s 623us/step - loss: 0.0092 - accuracy: 1.0000\n",
      "Epoch 199/200\n",
      "47/47 [==============================] - ETA: 0s - loss: 0.0281 - accuracy: 1.00 - 0s 654us/step - loss: 0.0103 - accuracy: 1.0000\n",
      "Epoch 200/200\n",
      "47/47 [==============================] - ETA: 0s - loss: 0.0538 - accuracy: 1.00 - 0s 654us/step - loss: 0.0149 - accuracy: 1.0000\n",
      "Model Created\n"
     ]
    }
   ],
   "source": [
    "# Create model - 3 layers. First layer 128 neurons(dimensionality of the output space), second layer 64 neurons and 3rd output layer contains number of neurons\n",
    "# equal to number of intents to predict output intent with softmax\n",
    "\n",
    "model = Sequential()\n",
    "model.add(Dense(128, input_shape = (len(train_x[0]),), activation='relu'))\n",
    "model.add(Dropout(0.5))\n",
    "model.add(Dense(64, activation = 'relu'))\n",
    "model.add(Dropout(0.5))\n",
    "model.add(Dense(len(train_y[0]), activation = 'softmax'))\n",
    "\n",
    "model.compile(loss = 'categorical_crossentropy', optimizer = 'adam', metrics = ['accuracy'])\n",
    "\n",
    "#fit the model and save it\n",
    "hist = model.fit(np.array(train_x), np.array(train_y), epochs = 200, batch_size = 5, verbose = 1)\n",
    "model.save('chatbot_model.h5', hist)\n",
    "\n",
    "print(\"Model Created\")"
   ]
  },
  {
   "cell_type": "code",
   "execution_count": 13,
   "metadata": {},
   "outputs": [
    {
     "data": {
      "text/plain": [
       "70"
      ]
     },
     "execution_count": 13,
     "metadata": {},
     "output_type": "execute_result"
    }
   ],
   "source": [
    "len(train_x[0])"
   ]
  },
  {
   "cell_type": "markdown",
   "metadata": {},
   "source": [
    "# Predict the Response"
   ]
  },
  {
   "cell_type": "markdown",
   "metadata": {},
   "source": [
    "Now to predict the sentences and get a response from the user to let us create a new file ‘chatapp.py’.\n",
    "\n",
    "We will load the trained model and then use a graphical user interface that will predict the response from the bot. The model will only tell us the class it belongs to, so we will implement some functions which will identify the class and then retrieve us a random response from the list of responses.\n",
    "\n",
    "Again we import the necessary packages and load the ‘words.pkl’ and ‘classes.pkl’ pickle files which we have created when we trained our model:"
   ]
  }
 ],
 "metadata": {
  "kernelspec": {
   "display_name": "Python 3",
   "language": "python",
   "name": "python3"
  },
  "language_info": {
   "codemirror_mode": {
    "name": "ipython",
    "version": 3
   },
   "file_extension": ".py",
   "mimetype": "text/x-python",
   "name": "python",
   "nbconvert_exporter": "python",
   "pygments_lexer": "ipython3",
   "version": "3.7.3"
  }
 },
 "nbformat": 4,
 "nbformat_minor": 2
}

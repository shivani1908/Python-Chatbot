{
 "cells": [
  {
   "cell_type": "code",
   "execution_count": 1,
   "metadata": {},
   "outputs": [],
   "source": [
    "import pandas as pd\n",
    "import numpy as np"
   ]
  },
  {
   "cell_type": "code",
   "execution_count": 4,
   "metadata": {},
   "outputs": [
    {
     "data": {
      "text/plain": [
       "pandas.core.frame.DataFrame"
      ]
     },
     "execution_count": 4,
     "metadata": {},
     "output_type": "execute_result"
    }
   ],
   "source": [
    "intents = pd.read_json('intents.json')\n",
    "type(intents)"
   ]
  },
  {
   "cell_type": "code",
   "execution_count": 5,
   "metadata": {},
   "outputs": [
    {
     "data": {
      "text/plain": [
       "0     {'tag': 'greeting', 'patterns': ['Hi there', '...\n",
       "1     {'tag': 'goodbye', 'patterns': ['Bye', 'See yo...\n",
       "2     {'tag': 'thanks', 'patterns': ['Thanks', 'Than...\n",
       "3     {'tag': 'noanswer', 'patterns': [], 'responses...\n",
       "4     {'tag': 'options', 'patterns': ['How you could...\n",
       "5     {'tag': 'adverse_drug', 'patterns': ['How to c...\n",
       "6     {'tag': 'blood_pressure', 'patterns': ['Open b...\n",
       "7     {'tag': 'blood_pressure_search', 'patterns': [...\n",
       "8     {'tag': 'search_blood_pressure_by_patient_id',...\n",
       "9     {'tag': 'pharmacy_search', 'patterns': ['Find ...\n",
       "10    {'tag': 'search_pharmacy_by_name', 'patterns':...\n",
       "11    {'tag': 'hospital_search', 'patterns': ['Looku...\n",
       "12    {'tag': 'search_hospital_by_params', 'patterns...\n",
       "13    {'tag': 'search_hospital_by_type', 'patterns':...\n",
       "Name: intents, dtype: object"
      ]
     },
     "execution_count": 5,
     "metadata": {},
     "output_type": "execute_result"
    }
   ],
   "source": [
    "intents['intents']"
   ]
  },
  {
   "cell_type": "code",
   "execution_count": 10,
   "metadata": {},
   "outputs": [
    {
     "data": {
      "text/plain": [
       "pandas.core.series.Series"
      ]
     },
     "execution_count": 10,
     "metadata": {},
     "output_type": "execute_result"
    }
   ],
   "source": [
    "type(intents['intents'])"
   ]
  },
  {
   "cell_type": "markdown",
   "metadata": {},
   "source": [
    "# Preprocessing"
   ]
  },
  {
   "cell_type": "code",
   "execution_count": 14,
   "metadata": {},
   "outputs": [],
   "source": [
    "import nltk\n",
    "import re\n",
    "\n",
    "from nltk.tokenize import word_tokenize\n",
    "from nltk.stem import PorterStemmer\n",
    "from nltk.corpus import stopwords"
   ]
  },
  {
   "cell_type": "code",
   "execution_count": 101,
   "metadata": {},
   "outputs": [],
   "source": [
    "stemma = PorterStemmer()\n",
    "words = []\n",
    "documents = []\n",
    "classes = []\n",
    "\n",
    "for intent in intents['intents']:\n",
    "    for pattern in intent['patterns']:\n",
    "        #print(pattern)\n",
    "        pattern = re.sub('[^a-zA-Z]', ' ', pattern)\n",
    "        #print(pattern)\n",
    "        \n",
    "        w = word_tokenize(pattern)\n",
    "        #print(w)\n",
    "        \n",
    "        w = [stemma.stem(word.lower()) for word in w if word not in set(stopwords.words('english'))]\n",
    "        #print(w)\n",
    "        \n",
    "        words.extend(w)\n",
    "        \n",
    "        documents.append((w, intent['tag']))\n",
    "        \n",
    "        if(intent['tag'] not in classes):\n",
    "            classes.append(intent['tag'])\n",
    "        #print(classes)"
   ]
  },
  {
   "cell_type": "code",
   "execution_count": 102,
   "metadata": {},
   "outputs": [
    {
     "data": {
      "text/plain": [
       "[6, 8, 9, [1, 2, 3, [4, 5]]]"
      ]
     },
     "execution_count": 102,
     "metadata": {},
     "output_type": "execute_result"
    }
   ],
   "source": [
    "l1 = [1,2,3,[4,5]]\n",
    "l2 = [6,8,9]\n",
    "l2.append(l1)\n",
    "l2"
   ]
  },
  {
   "cell_type": "code",
   "execution_count": 103,
   "metadata": {},
   "outputs": [
    {
     "name": "stdout",
     "output_type": "stream",
     "text": [
      "['hi', 'how', 'is', 'anyon', 'hey', 'hola', 'hello', 'good', 'day', 'bye', 'see', 'later', 'goodby', 'nice', 'chat', 'bye', 'till', 'next', 'time', 'thank', 'thank', 'that', 'help', 'awesom', 'thank', 'thank', 'help', 'how', 'could', 'help', 'what', 'what', 'help', 'provid', 'how', 'help', 'what', 'support', 'offer', 'how', 'check', 'advers', 'drug', 'reaction', 'open', 'advers', 'drug', 'modul', 'give', 'list', 'drug', 'caus', 'advers', 'behavior', 'list', 'drug', 'suitabl', 'patient', 'advers', 'reaction', 'which', 'drug', 'dont', 'advers', 'reaction', 'open', 'blood', 'pressur', 'modul', 'task', 'relat', 'blood', 'pressur', 'blood', 'pressur', 'data', 'entri', 'i', 'want', 'log', 'blood', 'pressur', 'result', 'blood', 'pressur', 'data', 'manag', 'i', 'want', 'search', 'blood', 'pressur', 'result', 'histori', 'blood', 'pressur', 'patient', 'load', 'patient', 'blood', 'pressur', 'result', 'show', 'blood', 'pressur', 'result', 'patient', 'find', 'blood', 'pressur', 'result', 'id', 'find', 'pharmaci', 'find', 'pharmaci', 'list', 'pharmaci', 'nearbi', 'locat', 'pharmaci', 'search', 'pharmaci', 'lookup', 'hospit', 'search', 'hospit', 'transfer', 'patient', 'i', 'want', 'search', 'hospit', 'data', 'hospit', 'lookup', 'patient', 'look', 'hospit', 'detail']\n"
     ]
    }
   ],
   "source": [
    "print(words)"
   ]
  },
  {
   "cell_type": "code",
   "execution_count": 104,
   "metadata": {},
   "outputs": [
    {
     "name": "stdout",
     "output_type": "stream",
     "text": [
      "[(['hi'], 'greeting'), (['how'], 'greeting'), (['is', 'anyon'], 'greeting'), (['hey'], 'greeting'), (['hola'], 'greeting'), (['hello'], 'greeting'), (['good', 'day'], 'greeting'), (['bye'], 'goodbye'), (['see', 'later'], 'goodbye'), (['goodby'], 'goodbye'), (['nice', 'chat', 'bye'], 'goodbye'), (['till', 'next', 'time'], 'goodbye'), (['thank'], 'thanks'), (['thank'], 'thanks'), (['that', 'help'], 'thanks'), (['awesom', 'thank'], 'thanks'), (['thank', 'help'], 'thanks'), (['how', 'could', 'help'], 'options'), (['what'], 'options'), (['what', 'help', 'provid'], 'options'), (['how', 'help'], 'options'), (['what', 'support', 'offer'], 'options'), (['how', 'check', 'advers', 'drug', 'reaction'], 'adverse_drug'), (['open', 'advers', 'drug', 'modul'], 'adverse_drug'), (['give', 'list', 'drug', 'caus', 'advers', 'behavior'], 'adverse_drug'), (['list', 'drug', 'suitabl', 'patient', 'advers', 'reaction'], 'adverse_drug'), (['which', 'drug', 'dont', 'advers', 'reaction'], 'adverse_drug'), (['open', 'blood', 'pressur', 'modul'], 'blood_pressure'), (['task', 'relat', 'blood', 'pressur'], 'blood_pressure'), (['blood', 'pressur', 'data', 'entri'], 'blood_pressure'), (['i', 'want', 'log', 'blood', 'pressur', 'result'], 'blood_pressure'), (['blood', 'pressur', 'data', 'manag'], 'blood_pressure'), (['i', 'want', 'search', 'blood', 'pressur', 'result', 'histori'], 'blood_pressure_search'), (['blood', 'pressur', 'patient'], 'blood_pressure_search'), (['load', 'patient', 'blood', 'pressur', 'result'], 'blood_pressure_search'), (['show', 'blood', 'pressur', 'result', 'patient'], 'blood_pressure_search'), (['find', 'blood', 'pressur', 'result', 'id'], 'blood_pressure_search'), (['find', 'pharmaci'], 'pharmacy_search'), (['find', 'pharmaci'], 'pharmacy_search'), (['list', 'pharmaci', 'nearbi'], 'pharmacy_search'), (['locat', 'pharmaci'], 'pharmacy_search'), (['search', 'pharmaci'], 'pharmacy_search'), (['lookup', 'hospit'], 'hospital_search'), (['search', 'hospit', 'transfer', 'patient'], 'hospital_search'), (['i', 'want', 'search', 'hospit', 'data'], 'hospital_search'), (['hospit', 'lookup', 'patient'], 'hospital_search'), (['look', 'hospit', 'detail'], 'hospital_search')]\n"
     ]
    }
   ],
   "source": [
    "print(documents)"
   ]
  },
  {
   "cell_type": "code",
   "execution_count": 105,
   "metadata": {},
   "outputs": [
    {
     "name": "stdout",
     "output_type": "stream",
     "text": [
      "47 documents\n",
      "9 classes\n",
      "66 unique stemmed words\n"
     ]
    }
   ],
   "source": [
    "import pickle\n",
    "\n",
    "words = sorted(list(set(words)))\n",
    "classes = sorted(list(set(classes)))\n",
    "\n",
    "#print(documents)\n",
    "print(len(documents), 'documents')\n",
    "print(len(classes), 'classes')\n",
    "print(len(words), 'unique stemmed words')\n",
    "\n",
    "pickle.dump(words, open('words1.pkl', 'wb'))\n",
    "pickle.dump(classes, open('classes1.pkl', 'wb'))"
   ]
  },
  {
   "cell_type": "code",
   "execution_count": 106,
   "metadata": {},
   "outputs": [],
   "source": [
    "train = []\n",
    "out_empty = [0]*len(classes)\n",
    "\n",
    "for doc in documents:\n",
    "    \n",
    "    bag = []\n",
    "    word_list = doc[0]\n",
    "    \n",
    "    for w in words:\n",
    "        if w in word_list:\n",
    "            bag.append(1)\n",
    "        else:\n",
    "            bag.append(0)\n",
    "            \n",
    "    out_row = list(out_empty)\n",
    "    out_row[classes.index(doc[1])] = 1\n",
    "    \n",
    "    train.append((bag, out_row))"
   ]
  },
  {
   "cell_type": "code",
   "execution_count": 107,
   "metadata": {},
   "outputs": [
    {
     "data": {
      "text/plain": [
       "['hi']"
      ]
     },
     "execution_count": 107,
     "metadata": {},
     "output_type": "execute_result"
    }
   ],
   "source": [
    "documents[0][0]"
   ]
  },
  {
   "cell_type": "code",
   "execution_count": 108,
   "metadata": {},
   "outputs": [
    {
     "name": "stdout",
     "output_type": "stream",
     "text": [
      "<class 'list'>\n"
     ]
    },
    {
     "ename": "AttributeError",
     "evalue": "'list' object has no attribute 'shape'",
     "output_type": "error",
     "traceback": [
      "\u001b[1;31m---------------------------------------------------------------------------\u001b[0m",
      "\u001b[1;31mAttributeError\u001b[0m                            Traceback (most recent call last)",
      "\u001b[1;32m<ipython-input-108-c9d0aec11b2a>\u001b[0m in \u001b[0;36m<module>\u001b[1;34m\u001b[0m\n\u001b[0;32m      1\u001b[0m \u001b[0mprint\u001b[0m\u001b[1;33m(\u001b[0m\u001b[0mtype\u001b[0m\u001b[1;33m(\u001b[0m\u001b[0mtrain\u001b[0m\u001b[1;33m)\u001b[0m\u001b[1;33m)\u001b[0m\u001b[1;33m\u001b[0m\u001b[1;33m\u001b[0m\u001b[0m\n\u001b[1;32m----> 2\u001b[1;33m \u001b[0mprint\u001b[0m\u001b[1;33m(\u001b[0m\u001b[0mtrain\u001b[0m\u001b[1;33m.\u001b[0m\u001b[0mshape\u001b[0m\u001b[1;33m)\u001b[0m\u001b[1;33m\u001b[0m\u001b[1;33m\u001b[0m\u001b[0m\n\u001b[0m",
      "\u001b[1;31mAttributeError\u001b[0m: 'list' object has no attribute 'shape'"
     ]
    }
   ],
   "source": [
    "print(type(train))\n",
    "print(train.shape)"
   ]
  },
  {
   "cell_type": "code",
   "execution_count": 109,
   "metadata": {},
   "outputs": [
    {
     "name": "stdout",
     "output_type": "stream",
     "text": [
      "Training data created!\n"
     ]
    }
   ],
   "source": [
    "np.random.shuffle(train)\n",
    "train = np.array(train)\n",
    "#type(train)\n",
    "#train.shape\n",
    "train_x = list(train[:, 0])\n",
    "train_y = list(train[:, 1])\n",
    "\n",
    "print(\"Training data created!\")"
   ]
  },
  {
   "cell_type": "markdown",
   "metadata": {},
   "source": [
    "# Building the model"
   ]
  },
  {
   "cell_type": "code",
   "execution_count": 110,
   "metadata": {},
   "outputs": [],
   "source": [
    "import keras\n",
    "from keras.models import Sequential\n",
    "from keras.layers import Dense, Dropout, Activation\n",
    "from keras.optimizers import SGD"
   ]
  },
  {
   "cell_type": "code",
   "execution_count": 111,
   "metadata": {},
   "outputs": [
    {
     "data": {
      "text/plain": [
       "66"
      ]
     },
     "execution_count": 111,
     "metadata": {},
     "output_type": "execute_result"
    }
   ],
   "source": [
    "len(train_x[0])"
   ]
  },
  {
   "cell_type": "code",
   "execution_count": 112,
   "metadata": {},
   "outputs": [
    {
     "data": {
      "text/plain": [
       "list"
      ]
     },
     "execution_count": 112,
     "metadata": {},
     "output_type": "execute_result"
    }
   ],
   "source": [
    "type(train_x)"
   ]
  },
  {
   "cell_type": "code",
   "execution_count": 113,
   "metadata": {},
   "outputs": [
    {
     "data": {
      "text/plain": [
       "47"
      ]
     },
     "execution_count": 113,
     "metadata": {},
     "output_type": "execute_result"
    }
   ],
   "source": [
    "len(train_x)"
   ]
  },
  {
   "cell_type": "code",
   "execution_count": 114,
   "metadata": {},
   "outputs": [
    {
     "name": "stdout",
     "output_type": "stream",
     "text": [
      "[[0 0 0 ... 0 0 0]\n",
      " [0 1 0 ... 0 0 0]\n",
      " [0 0 0 ... 0 0 0]\n",
      " ...\n",
      " [0 0 0 ... 0 1 0]\n",
      " [0 0 0 ... 0 0 0]\n",
      " [0 0 0 ... 0 0 0]]\n",
      "<class 'numpy.ndarray'>\n"
     ]
    }
   ],
   "source": [
    "print(np.array(train_x))\n",
    "print(type(np.array(train_x)))"
   ]
  },
  {
   "cell_type": "code",
   "execution_count": 118,
   "metadata": {},
   "outputs": [
    {
     "name": "stdout",
     "output_type": "stream",
     "text": [
      "WARNING:tensorflow:From E:\\notebooks\\anaconda\\lib\\site-packages\\tensorflow\\python\\ops\\resource_variable_ops.py:435: colocate_with (from tensorflow.python.framework.ops) is deprecated and will be removed in a future version.\n",
      "Instructions for updating:\n",
      "Colocations handled automatically by placer.\n"
     ]
    }
   ],
   "source": [
    "model = Sequential()\n",
    "model.add(Dense(128, input_shape = (len(train_x[0]), ), activation = 'relu'))\n",
    "model.add(Dropout(0.5))\n",
    "model.add(Dense(64, activation = 'relu'))\n",
    "model.add(Dropout(0.5))\n",
    "model.add(Dense(len(train_y[0]), activation = 'softmax'))"
   ]
  },
  {
   "cell_type": "code",
   "execution_count": 119,
   "metadata": {},
   "outputs": [],
   "source": [
    "model.compile(loss = 'categorical_crossentropy', optimizer='adam', metrics=['accuracy'])"
   ]
  },
  {
   "cell_type": "code",
   "execution_count": 120,
   "metadata": {},
   "outputs": [
    {
     "name": "stdout",
     "output_type": "stream",
     "text": [
      "WARNING:tensorflow:From E:\\notebooks\\anaconda\\lib\\site-packages\\tensorflow\\python\\ops\\math_ops.py:3066: to_int32 (from tensorflow.python.ops.math_ops) is deprecated and will be removed in a future version.\n",
      "Instructions for updating:\n",
      "Use tf.cast instead.\n",
      "Epoch 1/200\n",
      "47/47 [==============================] - 0s 3ms/step - loss: 2.2394 - accuracy: 0.0426\n",
      "Epoch 2/200\n",
      "47/47 [==============================] - 0s 382us/step - loss: 2.2022 - accuracy: 0.0426\n",
      "Epoch 3/200\n",
      "47/47 [==============================] - 0s 424us/step - loss: 2.1725 - accuracy: 0.1489\n",
      "Epoch 4/200\n",
      "47/47 [==============================] - 0s 339us/step - loss: 2.1217 - accuracy: 0.2553\n",
      "Epoch 5/200\n",
      "47/47 [==============================] - 0s 339us/step - loss: 2.0296 - accuracy: 0.3830\n",
      "Epoch 6/200\n",
      "47/47 [==============================] - 0s 403us/step - loss: 2.0196 - accuracy: 0.2979\n",
      "Epoch 7/200\n",
      "47/47 [==============================] - 0s 382us/step - loss: 1.9977 - accuracy: 0.3617\n",
      "Epoch 8/200\n",
      "47/47 [==============================] - 0s 403us/step - loss: 1.9426 - accuracy: 0.4255\n",
      "Epoch 9/200\n",
      "47/47 [==============================] - 0s 382us/step - loss: 1.8935 - accuracy: 0.4255\n",
      "Epoch 10/200\n",
      "47/47 [==============================] - 0s 531us/step - loss: 1.8529 - accuracy: 0.5319\n",
      "Epoch 11/200\n",
      "47/47 [==============================] - 0s 361us/step - loss: 1.6993 - accuracy: 0.6596\n",
      "Epoch 12/200\n",
      "47/47 [==============================] - 0s 339us/step - loss: 1.6600 - accuracy: 0.5957\n",
      "Epoch 13/200\n",
      "47/47 [==============================] - 0s 403us/step - loss: 1.6341 - accuracy: 0.7660\n",
      "Epoch 14/200\n",
      "47/47 [==============================] - 0s 467us/step - loss: 1.5039 - accuracy: 0.6809\n",
      "Epoch 15/200\n",
      "47/47 [==============================] - 0s 552us/step - loss: 1.4824 - accuracy: 0.7021\n",
      "Epoch 16/200\n",
      "47/47 [==============================] - 0s 276us/step - loss: 1.4284 - accuracy: 0.8085\n",
      "Epoch 17/200\n",
      "47/47 [==============================] - 0s 403us/step - loss: 1.2625 - accuracy: 0.7872\n",
      "Epoch 18/200\n",
      "47/47 [==============================] - 0s 361us/step - loss: 1.2882 - accuracy: 0.7660\n",
      "Epoch 19/200\n",
      "47/47 [==============================] - 0s 318us/step - loss: 1.1383 - accuracy: 0.7872\n",
      "Epoch 20/200\n",
      "47/47 [==============================] - 0s 488us/step - loss: 1.2303 - accuracy: 0.7021\n",
      "Epoch 21/200\n",
      "47/47 [==============================] - 0s 361us/step - loss: 1.0795 - accuracy: 0.8511\n",
      "Epoch 22/200\n",
      "47/47 [==============================] - 0s 530us/step - loss: 0.8619 - accuracy: 0.9149\n",
      "Epoch 23/200\n",
      "47/47 [==============================] - 0s 446us/step - loss: 0.9303 - accuracy: 0.8511\n",
      "Epoch 24/200\n",
      "47/47 [==============================] - 0s 382us/step - loss: 0.8587 - accuracy: 0.7872\n",
      "Epoch 25/200\n",
      "47/47 [==============================] - 0s 403us/step - loss: 0.8322 - accuracy: 0.8723\n",
      "Epoch 26/200\n",
      "47/47 [==============================] - 0s 318us/step - loss: 0.7886 - accuracy: 0.8085\n",
      "Epoch 27/200\n",
      "47/47 [==============================] - 0s 382us/step - loss: 0.6692 - accuracy: 0.8936\n",
      "Epoch 28/200\n",
      "47/47 [==============================] - 0s 446us/step - loss: 0.7185 - accuracy: 0.8511\n",
      "Epoch 29/200\n",
      "47/47 [==============================] - 0s 382us/step - loss: 0.6662 - accuracy: 0.8511\n",
      "Epoch 30/200\n",
      "47/47 [==============================] - 0s 360us/step - loss: 0.5816 - accuracy: 0.9574\n",
      "Epoch 31/200\n",
      "47/47 [==============================] - 0s 361us/step - loss: 0.4639 - accuracy: 0.9362\n",
      "Epoch 32/200\n",
      "47/47 [==============================] - 0s 424us/step - loss: 0.5919 - accuracy: 0.9149\n",
      "Epoch 33/200\n",
      "47/47 [==============================] - 0s 424us/step - loss: 0.4459 - accuracy: 0.9362\n",
      "Epoch 34/200\n",
      "47/47 [==============================] - 0s 339us/step - loss: 0.5180 - accuracy: 0.9149\n",
      "Epoch 35/200\n",
      "47/47 [==============================] - 0s 424us/step - loss: 0.3678 - accuracy: 0.9574\n",
      "Epoch 36/200\n",
      "47/47 [==============================] - 0s 424us/step - loss: 0.4003 - accuracy: 0.9574\n",
      "Epoch 37/200\n",
      "47/47 [==============================] - 0s 340us/step - loss: 0.4658 - accuracy: 0.8723\n",
      "Epoch 38/200\n",
      "47/47 [==============================] - 0s 361us/step - loss: 0.4315 - accuracy: 0.9362\n",
      "Epoch 39/200\n",
      "47/47 [==============================] - 0s 467us/step - loss: 0.3874 - accuracy: 0.8936\n",
      "Epoch 40/200\n",
      "47/47 [==============================] - 0s 403us/step - loss: 0.2579 - accuracy: 0.9787\n",
      "Epoch 41/200\n",
      "47/47 [==============================] - 0s 361us/step - loss: 0.3686 - accuracy: 0.8723\n",
      "Epoch 42/200\n",
      "47/47 [==============================] - 0s 425us/step - loss: 0.2544 - accuracy: 0.9574\n",
      "Epoch 43/200\n",
      "47/47 [==============================] - 0s 382us/step - loss: 0.2119 - accuracy: 0.9787\n",
      "Epoch 44/200\n",
      "47/47 [==============================] - 0s 361us/step - loss: 0.3539 - accuracy: 0.9149\n",
      "Epoch 45/200\n",
      "47/47 [==============================] - 0s 446us/step - loss: 0.2823 - accuracy: 0.9574\n",
      "Epoch 46/200\n",
      "47/47 [==============================] - 0s 488us/step - loss: 0.3018 - accuracy: 0.8936\n",
      "Epoch 47/200\n",
      "47/47 [==============================] - 0s 424us/step - loss: 0.3278 - accuracy: 0.8723\n",
      "Epoch 48/200\n",
      "47/47 [==============================] - 0s 424us/step - loss: 0.2857 - accuracy: 0.9574\n",
      "Epoch 49/200\n",
      "47/47 [==============================] - 0s 467us/step - loss: 0.1785 - accuracy: 1.0000\n",
      "Epoch 50/200\n",
      "47/47 [==============================] - 0s 615us/step - loss: 0.1926 - accuracy: 0.9787\n",
      "Epoch 51/200\n",
      "47/47 [==============================] - 0s 594us/step - loss: 0.2369 - accuracy: 0.9362\n",
      "Epoch 52/200\n",
      "47/47 [==============================] - 0s 509us/step - loss: 0.1406 - accuracy: 1.0000\n",
      "Epoch 53/200\n",
      "47/47 [==============================] - 0s 467us/step - loss: 0.2460 - accuracy: 0.9574\n",
      "Epoch 54/200\n",
      "47/47 [==============================] - 0s 509us/step - loss: 0.2542 - accuracy: 0.9787\n",
      "Epoch 55/200\n",
      "47/47 [==============================] - 0s 361us/step - loss: 0.1918 - accuracy: 0.9574\n",
      "Epoch 56/200\n",
      "47/47 [==============================] - 0s 467us/step - loss: 0.1300 - accuracy: 0.9787\n",
      "Epoch 57/200\n",
      "47/47 [==============================] - 0s 424us/step - loss: 0.1406 - accuracy: 0.9787\n",
      "Epoch 58/200\n",
      "47/47 [==============================] - 0s 488us/step - loss: 0.1575 - accuracy: 0.9574\n",
      "Epoch 59/200\n",
      "47/47 [==============================] - 0s 445us/step - loss: 0.0856 - accuracy: 1.0000\n",
      "Epoch 60/200\n",
      "47/47 [==============================] - 0s 446us/step - loss: 0.1813 - accuracy: 0.9362\n",
      "Epoch 61/200\n",
      "47/47 [==============================] - 0s 446us/step - loss: 0.1282 - accuracy: 0.9787\n",
      "Epoch 62/200\n",
      "47/47 [==============================] - 0s 467us/step - loss: 0.3031 - accuracy: 0.9362\n",
      "Epoch 63/200\n",
      "47/47 [==============================] - 0s 424us/step - loss: 0.2054 - accuracy: 0.9362\n",
      "Epoch 64/200\n",
      "47/47 [==============================] - 0s 403us/step - loss: 0.1406 - accuracy: 0.9574\n",
      "Epoch 65/200\n",
      "47/47 [==============================] - 0s 446us/step - loss: 0.1380 - accuracy: 1.0000\n",
      "Epoch 66/200\n",
      "47/47 [==============================] - 0s 531us/step - loss: 0.1988 - accuracy: 0.9574\n",
      "Epoch 67/200\n",
      "47/47 [==============================] - 0s 441us/step - loss: 0.1254 - accuracy: 0.9574\n",
      "Epoch 68/200\n",
      "47/47 [==============================] - 0s 361us/step - loss: 0.1730 - accuracy: 0.9787\n",
      "Epoch 69/200\n",
      "47/47 [==============================] - 0s 425us/step - loss: 0.1407 - accuracy: 0.9787\n",
      "Epoch 70/200\n",
      "47/47 [==============================] - 0s 361us/step - loss: 0.1424 - accuracy: 0.9574\n",
      "Epoch 71/200\n",
      "47/47 [==============================] - 0s 297us/step - loss: 0.1144 - accuracy: 0.9787\n",
      "Epoch 72/200\n",
      "47/47 [==============================] - 0s 361us/step - loss: 0.0993 - accuracy: 1.0000\n",
      "Epoch 73/200\n",
      "47/47 [==============================] - 0s 403us/step - loss: 0.0648 - accuracy: 1.0000\n",
      "Epoch 74/200\n",
      "47/47 [==============================] - 0s 276us/step - loss: 0.1156 - accuracy: 0.9574\n",
      "Epoch 75/200\n",
      "47/47 [==============================] - 0s 339us/step - loss: 0.1215 - accuracy: 0.9787\n",
      "Epoch 76/200\n",
      "47/47 [==============================] - 0s 276us/step - loss: 0.2239 - accuracy: 0.9574\n",
      "Epoch 77/200\n",
      "47/47 [==============================] - 0s 255us/step - loss: 0.0726 - accuracy: 1.0000\n",
      "Epoch 78/200\n",
      "47/47 [==============================] - 0s 233us/step - loss: 0.1233 - accuracy: 0.9787\n"
     ]
    },
    {
     "name": "stdout",
     "output_type": "stream",
     "text": [
      "Epoch 79/200\n",
      "47/47 [==============================] - 0s 233us/step - loss: 0.1152 - accuracy: 0.9787\n",
      "Epoch 80/200\n",
      "47/47 [==============================] - 0s 233us/step - loss: 0.0517 - accuracy: 1.0000\n",
      "Epoch 81/200\n",
      "47/47 [==============================] - 0s 212us/step - loss: 0.1007 - accuracy: 0.9787\n",
      "Epoch 82/200\n",
      "47/47 [==============================] - 0s 212us/step - loss: 0.1336 - accuracy: 1.0000\n",
      "Epoch 83/200\n",
      "47/47 [==============================] - 0s 212us/step - loss: 0.1364 - accuracy: 0.9787\n",
      "Epoch 84/200\n",
      "47/47 [==============================] - 0s 233us/step - loss: 0.0657 - accuracy: 1.0000\n",
      "Epoch 85/200\n",
      "47/47 [==============================] - 0s 212us/step - loss: 0.1198 - accuracy: 0.9787\n",
      "Epoch 86/200\n",
      "47/47 [==============================] - 0s 212us/step - loss: 0.0831 - accuracy: 0.9787\n",
      "Epoch 87/200\n",
      "47/47 [==============================] - 0s 212us/step - loss: 0.1064 - accuracy: 0.9574\n",
      "Epoch 88/200\n",
      "47/47 [==============================] - 0s 212us/step - loss: 0.0586 - accuracy: 1.0000\n",
      "Epoch 89/200\n",
      "47/47 [==============================] - 0s 233us/step - loss: 0.1264 - accuracy: 0.9149\n",
      "Epoch 90/200\n",
      "47/47 [==============================] - 0s 212us/step - loss: 0.1080 - accuracy: 0.9787\n",
      "Epoch 91/200\n",
      "47/47 [==============================] - 0s 212us/step - loss: 0.0523 - accuracy: 1.0000\n",
      "Epoch 92/200\n",
      "47/47 [==============================] - 0s 212us/step - loss: 0.0554 - accuracy: 1.0000\n",
      "Epoch 93/200\n",
      "47/47 [==============================] - 0s 212us/step - loss: 0.0759 - accuracy: 1.0000\n",
      "Epoch 94/200\n",
      "47/47 [==============================] - 0s 212us/step - loss: 0.0863 - accuracy: 1.0000\n",
      "Epoch 95/200\n",
      "47/47 [==============================] - 0s 212us/step - loss: 0.0344 - accuracy: 1.0000\n",
      "Epoch 96/200\n",
      "47/47 [==============================] - 0s 212us/step - loss: 0.0476 - accuracy: 1.0000\n",
      "Epoch 97/200\n",
      "47/47 [==============================] - 0s 233us/step - loss: 0.0819 - accuracy: 0.9574\n",
      "Epoch 98/200\n",
      "47/47 [==============================] - 0s 233us/step - loss: 0.0753 - accuracy: 0.9787\n",
      "Epoch 99/200\n",
      "47/47 [==============================] - 0s 212us/step - loss: 0.0998 - accuracy: 0.9787\n",
      "Epoch 100/200\n",
      "47/47 [==============================] - 0s 255us/step - loss: 0.0499 - accuracy: 1.0000\n",
      "Epoch 101/200\n",
      "47/47 [==============================] - 0s 233us/step - loss: 0.0653 - accuracy: 0.9787\n",
      "Epoch 102/200\n",
      "47/47 [==============================] - 0s 276us/step - loss: 0.0533 - accuracy: 0.9787\n",
      "Epoch 103/200\n",
      "47/47 [==============================] - 0s 297us/step - loss: 0.0999 - accuracy: 0.9787\n",
      "Epoch 104/200\n",
      "47/47 [==============================] - 0s 403us/step - loss: 0.0492 - accuracy: 1.0000\n",
      "Epoch 105/200\n",
      "47/47 [==============================] - 0s 340us/step - loss: 0.0828 - accuracy: 0.9787\n",
      "Epoch 106/200\n",
      "47/47 [==============================] - 0s 467us/step - loss: 0.0369 - accuracy: 1.0000\n",
      "Epoch 107/200\n",
      "47/47 [==============================] - 0s 340us/step - loss: 0.0531 - accuracy: 1.0000\n",
      "Epoch 108/200\n",
      "47/47 [==============================] - 0s 361us/step - loss: 0.0339 - accuracy: 1.0000\n",
      "Epoch 109/200\n",
      "47/47 [==============================] - 0s 488us/step - loss: 0.0989 - accuracy: 0.9787\n",
      "Epoch 110/200\n",
      "47/47 [==============================] - 0s 488us/step - loss: 0.0884 - accuracy: 0.9787\n",
      "Epoch 111/200\n",
      "47/47 [==============================] - 0s 467us/step - loss: 0.0741 - accuracy: 1.0000\n",
      "Epoch 112/200\n",
      "47/47 [==============================] - 0s 340us/step - loss: 0.0544 - accuracy: 0.9787\n",
      "Epoch 113/200\n",
      "47/47 [==============================] - 0s 340us/step - loss: 0.0389 - accuracy: 1.0000\n",
      "Epoch 114/200\n",
      "47/47 [==============================] - 0s 360us/step - loss: 0.0853 - accuracy: 0.9574\n",
      "Epoch 115/200\n",
      "47/47 [==============================] - 0s 297us/step - loss: 0.0615 - accuracy: 1.0000\n",
      "Epoch 116/200\n",
      "47/47 [==============================] - 0s 339us/step - loss: 0.0626 - accuracy: 0.9787\n",
      "Epoch 117/200\n",
      "47/47 [==============================] - 0s 297us/step - loss: 0.0311 - accuracy: 1.0000\n",
      "Epoch 118/200\n",
      "47/47 [==============================] - 0s 297us/step - loss: 0.0552 - accuracy: 1.0000\n",
      "Epoch 119/200\n",
      "47/47 [==============================] - 0s 297us/step - loss: 0.0627 - accuracy: 0.9787\n",
      "Epoch 120/200\n",
      "47/47 [==============================] - 0s 298us/step - loss: 0.0417 - accuracy: 1.0000\n",
      "Epoch 121/200\n",
      "47/47 [==============================] - 0s 332us/step - loss: 0.0203 - accuracy: 1.0000\n",
      "Epoch 122/200\n",
      "47/47 [==============================] - 0s 332us/step - loss: 0.0169 - accuracy: 1.0000\n",
      "Epoch 123/200\n",
      "47/47 [==============================] - 0s 332us/step - loss: 0.0419 - accuracy: 1.0000\n",
      "Epoch 124/200\n",
      "47/47 [==============================] - 0s 0us/step - loss: 0.0253 - accuracy: 1.0000\n",
      "Epoch 125/200\n",
      "47/47 [==============================] - 0s 0us/step - loss: 0.0382 - accuracy: 1.0000\n",
      "Epoch 126/200\n",
      "47/47 [==============================] - 0s 332us/step - loss: 0.0494 - accuracy: 0.9787\n",
      "Epoch 127/200\n",
      "47/47 [==============================] - 0s 332us/step - loss: 0.0598 - accuracy: 1.0000\n",
      "Epoch 128/200\n",
      "47/47 [==============================] - 0s 332us/step - loss: 0.0358 - accuracy: 1.0000\n",
      "Epoch 129/200\n",
      "47/47 [==============================] - 0s 332us/step - loss: 0.0741 - accuracy: 0.9787\n",
      "Epoch 130/200\n",
      "47/47 [==============================] - ETA: 0s - loss: 0.0140 - accuracy: 1.00 - 0s 0us/step - loss: 0.0162 - accuracy: 1.0000\n",
      "Epoch 131/200\n",
      "47/47 [==============================] - 0s 0us/step - loss: 0.0352 - accuracy: 1.0000\n",
      "Epoch 132/200\n",
      "47/47 [==============================] - 0s 332us/step - loss: 0.0368 - accuracy: 1.0000\n",
      "Epoch 133/200\n",
      "47/47 [==============================] - 0s 0us/step - loss: 0.0261 - accuracy: 1.0000\n",
      "Epoch 134/200\n",
      "47/47 [==============================] - 0s 332us/step - loss: 0.0336 - accuracy: 1.0000\n",
      "Epoch 135/200\n",
      "47/47 [==============================] - 0s 575us/step - loss: 0.0327 - accuracy: 1.0000\n",
      "Epoch 136/200\n",
      "47/47 [==============================] - 0s 240us/step - loss: 0.0417 - accuracy: 1.0000\n",
      "Epoch 137/200\n",
      "47/47 [==============================] - 0s 255us/step - loss: 0.0233 - accuracy: 1.0000\n",
      "Epoch 138/200\n",
      "47/47 [==============================] - 0s 233us/step - loss: 0.0250 - accuracy: 1.0000\n",
      "Epoch 139/200\n",
      "47/47 [==============================] - 0s 276us/step - loss: 0.0499 - accuracy: 0.9787\n",
      "Epoch 140/200\n",
      "47/47 [==============================] - 0s 276us/step - loss: 0.0416 - accuracy: 0.9787\n",
      "Epoch 141/200\n",
      "47/47 [==============================] - 0s 361us/step - loss: 0.0226 - accuracy: 1.0000\n",
      "Epoch 142/200\n",
      "47/47 [==============================] - 0s 361us/step - loss: 0.0313 - accuracy: 1.0000\n",
      "Epoch 143/200\n",
      "47/47 [==============================] - 0s 424us/step - loss: 0.0376 - accuracy: 1.0000\n",
      "Epoch 144/200\n",
      "47/47 [==============================] - 0s 467us/step - loss: 0.0262 - accuracy: 1.0000\n",
      "Epoch 145/200\n",
      "47/47 [==============================] - 0s 446us/step - loss: 0.0341 - accuracy: 1.0000\n",
      "Epoch 146/200\n",
      "47/47 [==============================] - 0s 467us/step - loss: 0.0189 - accuracy: 1.0000\n",
      "Epoch 147/200\n",
      "47/47 [==============================] - 0s 405us/step - loss: 0.0485 - accuracy: 1.0000\n",
      "Epoch 148/200\n",
      "47/47 [==============================] - 0s 361us/step - loss: 0.0710 - accuracy: 0.9787\n",
      "Epoch 149/200\n",
      "47/47 [==============================] - 0s 339us/step - loss: 0.0138 - accuracy: 1.0000\n",
      "Epoch 150/200\n",
      "47/47 [==============================] - 0s 361us/step - loss: 0.0120 - accuracy: 1.0000\n",
      "Epoch 151/200\n",
      "47/47 [==============================] - 0s 361us/step - loss: 0.0197 - accuracy: 1.0000\n",
      "Epoch 152/200\n",
      "47/47 [==============================] - 0s 361us/step - loss: 0.0162 - accuracy: 1.0000\n",
      "Epoch 153/200\n",
      "47/47 [==============================] - 0s 361us/step - loss: 0.0536 - accuracy: 0.9787\n",
      "Epoch 154/200\n",
      "47/47 [==============================] - 0s 424us/step - loss: 0.0324 - accuracy: 1.0000\n",
      "Epoch 155/200\n",
      "47/47 [==============================] - 0s 361us/step - loss: 0.0138 - accuracy: 1.0000\n",
      "Epoch 156/200\n",
      "47/47 [==============================] - 0s 297us/step - loss: 0.0205 - accuracy: 1.0000\n",
      "Epoch 157/200\n",
      "47/47 [==============================] - 0s 152us/step - loss: 0.0280 - accuracy: 1.0000\n",
      "Epoch 158/200\n"
     ]
    },
    {
     "name": "stdout",
     "output_type": "stream",
     "text": [
      "47/47 [==============================] - 0s 332us/step - loss: 0.0115 - accuracy: 1.0000\n",
      "Epoch 159/200\n",
      "47/47 [==============================] - 0s 0us/step - loss: 0.0143 - accuracy: 1.0000\n",
      "Epoch 160/200\n",
      "47/47 [==============================] - 0s 0us/step - loss: 0.0159 - accuracy: 1.0000\n",
      "Epoch 161/200\n",
      "47/47 [==============================] - 0s 332us/step - loss: 0.0149 - accuracy: 1.0000\n",
      "Epoch 162/200\n",
      "47/47 [==============================] - 0s 332us/step - loss: 0.0255 - accuracy: 1.0000\n",
      "Epoch 163/200\n",
      "47/47 [==============================] - 0s 0us/step - loss: 0.0376 - accuracy: 1.0000\n",
      "Epoch 164/200\n",
      "47/47 [==============================] - 0s 0us/step - loss: 0.0279 - accuracy: 1.0000\n",
      "Epoch 165/200\n",
      "47/47 [==============================] - 0s 332us/step - loss: 0.0292 - accuracy: 1.0000\n",
      "Epoch 166/200\n",
      "47/47 [==============================] - 0s 332us/step - loss: 0.0160 - accuracy: 1.0000\n",
      "Epoch 167/200\n",
      "47/47 [==============================] - 0s 307us/step - loss: 0.0329 - accuracy: 1.0000\n",
      "Epoch 168/200\n",
      "47/47 [==============================] - 0s 212us/step - loss: 0.0538 - accuracy: 0.9787\n",
      "Epoch 169/200\n",
      "47/47 [==============================] - 0s 191us/step - loss: 0.0212 - accuracy: 1.0000\n",
      "Epoch 170/200\n",
      "47/47 [==============================] - 0s 212us/step - loss: 0.0319 - accuracy: 1.0000\n",
      "Epoch 171/200\n",
      "47/47 [==============================] - 0s 149us/step - loss: 0.0261 - accuracy: 1.0000\n",
      "Epoch 172/200\n",
      "47/47 [==============================] - 0s 0us/step - loss: 0.0302 - accuracy: 1.0000\n",
      "Epoch 173/200\n",
      "47/47 [==============================] - 0s 253us/step - loss: 0.0239 - accuracy: 1.0000\n",
      "Epoch 174/200\n",
      "47/47 [==============================] - 0s 255us/step - loss: 0.0072 - accuracy: 1.0000\n",
      "Epoch 175/200\n",
      "47/47 [==============================] - 0s 340us/step - loss: 0.0883 - accuracy: 0.9787\n",
      "Epoch 176/200\n",
      "47/47 [==============================] - 0s 318us/step - loss: 0.0049 - accuracy: 1.0000\n",
      "Epoch 177/200\n",
      "47/47 [==============================] - 0s 276us/step - loss: 0.0354 - accuracy: 0.9787\n",
      "Epoch 178/200\n",
      "47/47 [==============================] - 0s 233us/step - loss: 0.0162 - accuracy: 1.0000\n",
      "Epoch 179/200\n",
      "47/47 [==============================] - 0s 233us/step - loss: 0.0126 - accuracy: 1.0000\n",
      "Epoch 180/200\n",
      "47/47 [==============================] - 0s 233us/step - loss: 0.0502 - accuracy: 0.9787\n",
      "Epoch 181/200\n",
      "47/47 [==============================] - 0s 233us/step - loss: 0.0118 - accuracy: 1.0000\n",
      "Epoch 182/200\n",
      "47/47 [==============================] - 0s 233us/step - loss: 0.0128 - accuracy: 1.0000\n",
      "Epoch 183/200\n",
      "47/47 [==============================] - 0s 233us/step - loss: 0.0532 - accuracy: 0.9787\n",
      "Epoch 184/200\n",
      "47/47 [==============================] - 0s 212us/step - loss: 0.0209 - accuracy: 1.0000\n",
      "Epoch 185/200\n",
      "47/47 [==============================] - 0s 233us/step - loss: 0.1003 - accuracy: 0.9787\n",
      "Epoch 186/200\n",
      "47/47 [==============================] - 0s 255us/step - loss: 0.0172 - accuracy: 1.0000\n",
      "Epoch 187/200\n",
      "47/47 [==============================] - 0s 212us/step - loss: 0.0235 - accuracy: 1.0000\n",
      "Epoch 188/200\n",
      "47/47 [==============================] - 0s 212us/step - loss: 0.0278 - accuracy: 1.0000\n",
      "Epoch 189/200\n",
      "47/47 [==============================] - 0s 212us/step - loss: 0.0162 - accuracy: 1.0000\n",
      "Epoch 190/200\n",
      "47/47 [==============================] - 0s 233us/step - loss: 0.0080 - accuracy: 1.0000\n",
      "Epoch 191/200\n",
      "47/47 [==============================] - 0s 107us/step - loss: 0.0093 - accuracy: 1.0000\n",
      "Epoch 192/200\n",
      "47/47 [==============================] - 0s 255us/step - loss: 0.0257 - accuracy: 1.0000\n",
      "Epoch 193/200\n",
      "47/47 [==============================] - 0s 212us/step - loss: 0.0480 - accuracy: 1.0000\n",
      "Epoch 194/200\n",
      "47/47 [==============================] - 0s 233us/step - loss: 0.0073 - accuracy: 1.0000\n",
      "Epoch 195/200\n",
      "47/47 [==============================] - 0s 276us/step - loss: 0.0225 - accuracy: 1.0000\n",
      "Epoch 196/200\n",
      "47/47 [==============================] - 0s 255us/step - loss: 0.0293 - accuracy: 1.0000\n",
      "Epoch 197/200\n",
      "47/47 [==============================] - 0s 255us/step - loss: 0.0073 - accuracy: 1.0000\n",
      "Epoch 198/200\n",
      "47/47 [==============================] - 0s 233us/step - loss: 0.0269 - accuracy: 1.0000\n",
      "Epoch 199/200\n",
      "47/47 [==============================] - 0s 212us/step - loss: 0.0135 - accuracy: 1.0000\n",
      "Epoch 200/200\n",
      "47/47 [==============================] - 0s 233us/step - loss: 0.0218 - accuracy: 1.0000\n",
      "Model Created\n"
     ]
    }
   ],
   "source": [
    "#fit the model and save it\n",
    "hist = model.fit(np.array(train_x), np.array(train_y), epochs = 200, batch_size = 5, verbose = 1)\n",
    "model.save('chatbot_model.h5', hist)\n",
    "\n",
    "print(\"Model Created\")"
   ]
  },
  {
   "cell_type": "markdown",
   "metadata": {},
   "source": [
    "# Predict the response"
   ]
  },
  {
   "cell_type": "code",
   "execution_count": null,
   "metadata": {},
   "outputs": [],
   "source": []
  }
 ],
 "metadata": {
  "kernelspec": {
   "display_name": "Python 3",
   "language": "python",
   "name": "python3"
  },
  "language_info": {
   "codemirror_mode": {
    "name": "ipython",
    "version": 3
   },
   "file_extension": ".py",
   "mimetype": "text/x-python",
   "name": "python",
   "nbconvert_exporter": "python",
   "pygments_lexer": "ipython3",
   "version": "3.7.3"
  }
 },
 "nbformat": 4,
 "nbformat_minor": 2
}
